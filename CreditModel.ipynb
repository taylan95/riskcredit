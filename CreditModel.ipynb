{
 "cells": [
  {
   "cell_type": "markdown",
   "metadata": {},
   "source": [
    "# Context"
   ]
  },
  {
   "cell_type": "markdown",
   "metadata": {},
   "source": [
    "The original dataset contains 1000 entries with 20 categorial/symbolic attributes prepared by Prof. Hofmann. In this dataset, each entry represents a person who takes a credit by a bank. Each person is classified as good or bad credit risks according to the set of attributes. The link to the original dataset can be found below."
   ]
  },
  {
   "cell_type": "markdown",
   "metadata": {},
   "source": [
    "# Content"
   ]
  },
  {
   "cell_type": "markdown",
   "metadata": {},
   "source": [
    "* Age (numeric)\n",
    "* Sex (text: male, female)\n",
    "* Job (numeric: 0 - unskilled and non-resident, 1 - unskilled and resident, 2 - skilled, 3 - highly skilled)\n",
    "* Housing (text: own, rent, or free)\n",
    "* Saving accounts (text - little, moderate, quite rich, rich)\n",
    "* Checking account (numeric, in DM - Deutsch Mark)\n",
    "* Credit amount (numeric, in DM)\n",
    "* Duration (numeric, in month)\n",
    "* Purpose (text: car, furniture/equipment, radio/TV, domestic appliances, repairs, education, business, vacation/others)"
   ]
  },
  {
   "cell_type": "markdown",
   "metadata": {},
   "source": [
    "First of all, this work on Credit Risk is my first work I have tried so far.\n",
    "Our data for our work is German_Credit data.\n",
    "Firstly, I will start by loading our libraries and data, and then I will make some analysis.\n",
    "Let's start!!"
   ]
  },
  {
   "cell_type": "markdown",
   "metadata": {},
   "source": [
    "1. Data & Data overview\n",
    "2. Exploratory Data Analysis\n",
    "3. Data Preprocessing & WoE\n",
    "4. Variable Selection\n",
    "5. Final Model\n",
    "6. Evaluating"
   ]
  },
  {
   "cell_type": "markdown",
   "metadata": {},
   "source": [
    "**Library**"
   ]
  },
  {
   "cell_type": "code",
   "execution_count": 1,
   "metadata": {},
   "outputs": [],
   "source": [
    "import pandas as pd\n",
    "import numpy as np \n",
    "import seaborn as sns\n",
    "import matplotlib.pyplot as plt\n",
    "%matplotlib inline\n",
    "import warnings\n",
    "warnings.filterwarnings(\"ignore\")\n",
    "from sklearn.preprocessing import LabelEncoder, OneHotEncoder\n",
    "from sklearn.model_selection import train_test_split\n",
    "from sklearn.linear_model import LogisticRegression\n",
    "from sklearn.metrics import roc_auc_score,mean_squared_error\n"
   ]
  },
  {
   "cell_type": "code",
   "execution_count": 2,
   "metadata": {},
   "outputs": [],
   "source": [
    "dataset = pd.read_csv(\"german_credit_data_3.csv\")"
   ]
  },
  {
   "cell_type": "code",
   "execution_count": 3,
   "metadata": {},
   "outputs": [],
   "source": [
    "#We take an overview of the first 5 lines of our data."
   ]
  },
  {
   "cell_type": "code",
   "execution_count": 4,
   "metadata": {},
   "outputs": [
    {
     "data": {
      "text/html": [
       "<div>\n",
       "<style scoped>\n",
       "    .dataframe tbody tr th:only-of-type {\n",
       "        vertical-align: middle;\n",
       "    }\n",
       "\n",
       "    .dataframe tbody tr th {\n",
       "        vertical-align: top;\n",
       "    }\n",
       "\n",
       "    .dataframe thead th {\n",
       "        text-align: right;\n",
       "    }\n",
       "</style>\n",
       "<table border=\"1\" class=\"dataframe\">\n",
       "  <thead>\n",
       "    <tr style=\"text-align: right;\">\n",
       "      <th></th>\n",
       "      <th>Unnamed: 0</th>\n",
       "      <th>Age</th>\n",
       "      <th>Sex</th>\n",
       "      <th>Job</th>\n",
       "      <th>Housing</th>\n",
       "      <th>Saving accounts</th>\n",
       "      <th>Checking account</th>\n",
       "      <th>Credit amount</th>\n",
       "      <th>Duration</th>\n",
       "      <th>Purpose</th>\n",
       "      <th>Risk</th>\n",
       "    </tr>\n",
       "  </thead>\n",
       "  <tbody>\n",
       "    <tr>\n",
       "      <td>0</td>\n",
       "      <td>0</td>\n",
       "      <td>67</td>\n",
       "      <td>male</td>\n",
       "      <td>2</td>\n",
       "      <td>own</td>\n",
       "      <td>NaN</td>\n",
       "      <td>little</td>\n",
       "      <td>1169</td>\n",
       "      <td>6</td>\n",
       "      <td>radio/TV</td>\n",
       "      <td>good</td>\n",
       "    </tr>\n",
       "    <tr>\n",
       "      <td>1</td>\n",
       "      <td>1</td>\n",
       "      <td>22</td>\n",
       "      <td>female</td>\n",
       "      <td>2</td>\n",
       "      <td>own</td>\n",
       "      <td>little</td>\n",
       "      <td>moderate</td>\n",
       "      <td>5951</td>\n",
       "      <td>48</td>\n",
       "      <td>radio/TV</td>\n",
       "      <td>bad</td>\n",
       "    </tr>\n",
       "    <tr>\n",
       "      <td>2</td>\n",
       "      <td>2</td>\n",
       "      <td>49</td>\n",
       "      <td>male</td>\n",
       "      <td>1</td>\n",
       "      <td>own</td>\n",
       "      <td>little</td>\n",
       "      <td>NaN</td>\n",
       "      <td>2096</td>\n",
       "      <td>12</td>\n",
       "      <td>education</td>\n",
       "      <td>good</td>\n",
       "    </tr>\n",
       "    <tr>\n",
       "      <td>3</td>\n",
       "      <td>3</td>\n",
       "      <td>45</td>\n",
       "      <td>male</td>\n",
       "      <td>2</td>\n",
       "      <td>free</td>\n",
       "      <td>little</td>\n",
       "      <td>little</td>\n",
       "      <td>7882</td>\n",
       "      <td>42</td>\n",
       "      <td>furniture/equipment</td>\n",
       "      <td>good</td>\n",
       "    </tr>\n",
       "    <tr>\n",
       "      <td>4</td>\n",
       "      <td>4</td>\n",
       "      <td>53</td>\n",
       "      <td>male</td>\n",
       "      <td>2</td>\n",
       "      <td>free</td>\n",
       "      <td>little</td>\n",
       "      <td>little</td>\n",
       "      <td>4870</td>\n",
       "      <td>24</td>\n",
       "      <td>car</td>\n",
       "      <td>bad</td>\n",
       "    </tr>\n",
       "  </tbody>\n",
       "</table>\n",
       "</div>"
      ],
      "text/plain": [
       "   Unnamed: 0  Age     Sex  Job Housing Saving accounts Checking account  \\\n",
       "0           0   67    male    2     own             NaN           little   \n",
       "1           1   22  female    2     own          little         moderate   \n",
       "2           2   49    male    1     own          little              NaN   \n",
       "3           3   45    male    2    free          little           little   \n",
       "4           4   53    male    2    free          little           little   \n",
       "\n",
       "   Credit amount  Duration              Purpose  Risk  \n",
       "0           1169         6             radio/TV  good  \n",
       "1           5951        48             radio/TV   bad  \n",
       "2           2096        12            education  good  \n",
       "3           7882        42  furniture/equipment  good  \n",
       "4           4870        24                  car   bad  "
      ]
     },
     "execution_count": 4,
     "metadata": {},
     "output_type": "execute_result"
    }
   ],
   "source": [
    "dataset.head()"
   ]
  },
  {
   "cell_type": "code",
   "execution_count": 5,
   "metadata": {},
   "outputs": [],
   "source": [
    "#we look at the structure of the data."
   ]
  },
  {
   "cell_type": "code",
   "execution_count": 6,
   "metadata": {},
   "outputs": [
    {
     "name": "stdout",
     "output_type": "stream",
     "text": [
      "<class 'pandas.core.frame.DataFrame'>\n",
      "RangeIndex: 1000 entries, 0 to 999\n",
      "Data columns (total 11 columns):\n",
      "Unnamed: 0          1000 non-null int64\n",
      "Age                 1000 non-null int64\n",
      "Sex                 1000 non-null object\n",
      "Job                 1000 non-null int64\n",
      "Housing             1000 non-null object\n",
      "Saving accounts     817 non-null object\n",
      "Checking account    606 non-null object\n",
      "Credit amount       1000 non-null int64\n",
      "Duration            1000 non-null int64\n",
      "Purpose             1000 non-null object\n",
      "Risk                1000 non-null object\n",
      "dtypes: int64(5), object(6)\n",
      "memory usage: 86.1+ KB\n"
     ]
    }
   ],
   "source": [
    "dataset.info()"
   ]
  },
  {
   "cell_type": "code",
   "execution_count": 7,
   "metadata": {},
   "outputs": [],
   "source": [
    "#we look at the missing data."
   ]
  },
  {
   "cell_type": "code",
   "execution_count": 8,
   "metadata": {},
   "outputs": [
    {
     "data": {
      "text/plain": [
       "Unnamed: 0            0\n",
       "Age                   0\n",
       "Sex                   0\n",
       "Job                   0\n",
       "Housing               0\n",
       "Saving accounts     183\n",
       "Checking account    394\n",
       "Credit amount         0\n",
       "Duration              0\n",
       "Purpose               0\n",
       "Risk                  0\n",
       "dtype: int64"
      ]
     },
     "execution_count": 8,
     "metadata": {},
     "output_type": "execute_result"
    }
   ],
   "source": [
    "dataset.isnull().sum()"
   ]
  },
  {
   "cell_type": "code",
   "execution_count": 9,
   "metadata": {},
   "outputs": [
    {
     "data": {
      "text/plain": [
       "good    700\n",
       "bad     300\n",
       "Name: Risk, dtype: int64"
      ]
     },
     "execution_count": 9,
     "metadata": {},
     "output_type": "execute_result"
    }
   ],
   "source": [
    "dataset.Risk.value_counts()"
   ]
  },
  {
   "cell_type": "code",
   "execution_count": 10,
   "metadata": {},
   "outputs": [
    {
     "data": {
      "text/plain": [
       "<Figure size 432x288 with 0 Axes>"
      ]
     },
     "execution_count": 10,
     "metadata": {},
     "output_type": "execute_result"
    },
    {
     "data": {
      "image/png": "[encoded data removed]",
      "text/plain": [
       "<Figure size 432x288 with 1 Axes>"
      ]
     },
     "metadata": {
      "needs_background": "light"
     },
     "output_type": "display_data"
    },
    {
     "data": {
      "text/plain": [
       "<Figure size 432x288 with 0 Axes>"
      ]
     },
     "metadata": {},
     "output_type": "display_data"
    }
   ],
   "source": [
    "plt.scatter(dataset['Credit amount'],dataset[\"Age\"])\n",
    "plt.figure()"
   ]
  },
  {
   "cell_type": "code",
   "execution_count": 11,
   "metadata": {},
   "outputs": [
    {
     "data": {
      "image/png": "[encoded data removed]",
      "text/plain": [
       "<Figure size 432x288 with 1 Axes>"
      ]
     },
     "metadata": {
      "needs_background": "light"
     },
     "output_type": "display_data"
    },
    {
     "data": {
      "text/plain": [
       "<Figure size 432x288 with 0 Axes>"
      ]
     },
     "metadata": {},
     "output_type": "display_data"
    }
   ],
   "source": [
    "plt.scatter(dataset['Credit amount'],dataset[\"Duration\"])\n",
    "plt.figure();"
   ]
  },
  {
   "cell_type": "code",
   "execution_count": 12,
   "metadata": {},
   "outputs": [
    {
     "data": {
      "image/png": "[encoded data removed]",
      "text/plain": [
       "<Figure size 360x720 with 5 Axes>"
      ]
     },
     "metadata": {
      "needs_background": "light"
     },
     "output_type": "display_data"
    }
   ],
   "source": [
    "dataset.plot.hist(figsize = (5,10),subplots = True);"
   ]
  },
  {
   "cell_type": "code",
   "execution_count": 13,
   "metadata": {},
   "outputs": [
    {
     "data": {
      "image/png": "[encoded data removed]",
      "text/plain": [
       "<Figure size 432x288 with 1 Axes>"
      ]
     },
     "metadata": {
      "needs_background": "light"
     },
     "output_type": "display_data"
    }
   ],
   "source": [
    "sns.barplot(x = \"Age\",y = \"Risk\",hue = \"Sex\",data = dataset);"
   ]
  },
  {
   "cell_type": "code",
   "execution_count": 14,
   "metadata": {},
   "outputs": [
    {
     "data": {
      "image/png": "[encoded data removed]",
      "text/plain": [
       "<Figure size 432x288 with 1 Axes>"
      ]
     },
     "metadata": {
      "needs_background": "light"
     },
     "output_type": "display_data"
    }
   ],
   "source": [
    "sns.boxplot(x = \"Job\",y = \"Credit amount\", hue = \"Sex\",data = dataset);"
   ]
  },
  {
   "cell_type": "code",
   "execution_count": 15,
   "metadata": {},
   "outputs": [
    {
     "data": {
      "text/plain": [
       "count    1000.000000\n",
       "mean       20.903000\n",
       "std        12.058814\n",
       "min         4.000000\n",
       "25%        12.000000\n",
       "50%        18.000000\n",
       "75%        24.000000\n",
       "max        72.000000\n",
       "Name: Duration, dtype: float64"
      ]
     },
     "execution_count": 15,
     "metadata": {},
     "output_type": "execute_result"
    }
   ],
   "source": [
    "dataset.Duration.describe()"
   ]
  },
  {
   "cell_type": "code",
   "execution_count": 16,
   "metadata": {},
   "outputs": [
    {
     "data": {
      "text/plain": [
       "count    1000.000000\n",
       "mean       35.546000\n",
       "std        11.375469\n",
       "min        19.000000\n",
       "25%        27.000000\n",
       "50%        33.000000\n",
       "75%        42.000000\n",
       "max        75.000000\n",
       "Name: Age, dtype: float64"
      ]
     },
     "execution_count": 16,
     "metadata": {},
     "output_type": "execute_result"
    }
   ],
   "source": [
    "dataset.Age.describe()"
   ]
  },
  {
   "cell_type": "code",
   "execution_count": 17,
   "metadata": {},
   "outputs": [],
   "source": [
    "df = dataset.copy()"
   ]
  },
  {
   "cell_type": "code",
   "execution_count": 18,
   "metadata": {},
   "outputs": [],
   "source": [
    "df = df.iloc[:,1:11]"
   ]
  },
  {
   "cell_type": "code",
   "execution_count": 19,
   "metadata": {},
   "outputs": [
    {
     "data": {
      "text/html": [
       "<div>\n",
       "<style scoped>\n",
       "    .dataframe tbody tr th:only-of-type {\n",
       "        vertical-align: middle;\n",
       "    }\n",
       "\n",
       "    .dataframe tbody tr th {\n",
       "        vertical-align: top;\n",
       "    }\n",
       "\n",
       "    .dataframe thead th {\n",
       "        text-align: right;\n",
       "    }\n",
       "</style>\n",
       "<table border=\"1\" class=\"dataframe\">\n",
       "  <thead>\n",
       "    <tr style=\"text-align: right;\">\n",
       "      <th></th>\n",
       "      <th>Age</th>\n",
       "      <th>Sex</th>\n",
       "      <th>Job</th>\n",
       "      <th>Housing</th>\n",
       "      <th>Saving accounts</th>\n",
       "      <th>Checking account</th>\n",
       "      <th>Credit amount</th>\n",
       "      <th>Duration</th>\n",
       "      <th>Purpose</th>\n",
       "      <th>Risk</th>\n",
       "    </tr>\n",
       "  </thead>\n",
       "  <tbody>\n",
       "    <tr>\n",
       "      <td>0</td>\n",
       "      <td>67</td>\n",
       "      <td>male</td>\n",
       "      <td>2</td>\n",
       "      <td>own</td>\n",
       "      <td>NaN</td>\n",
       "      <td>little</td>\n",
       "      <td>1169</td>\n",
       "      <td>6</td>\n",
       "      <td>radio/TV</td>\n",
       "      <td>good</td>\n",
       "    </tr>\n",
       "    <tr>\n",
       "      <td>1</td>\n",
       "      <td>22</td>\n",
       "      <td>female</td>\n",
       "      <td>2</td>\n",
       "      <td>own</td>\n",
       "      <td>little</td>\n",
       "      <td>moderate</td>\n",
       "      <td>5951</td>\n",
       "      <td>48</td>\n",
       "      <td>radio/TV</td>\n",
       "      <td>bad</td>\n",
       "    </tr>\n",
       "    <tr>\n",
       "      <td>2</td>\n",
       "      <td>49</td>\n",
       "      <td>male</td>\n",
       "      <td>1</td>\n",
       "      <td>own</td>\n",
       "      <td>little</td>\n",
       "      <td>NaN</td>\n",
       "      <td>2096</td>\n",
       "      <td>12</td>\n",
       "      <td>education</td>\n",
       "      <td>good</td>\n",
       "    </tr>\n",
       "    <tr>\n",
       "      <td>3</td>\n",
       "      <td>45</td>\n",
       "      <td>male</td>\n",
       "      <td>2</td>\n",
       "      <td>free</td>\n",
       "      <td>little</td>\n",
       "      <td>little</td>\n",
       "      <td>7882</td>\n",
       "      <td>42</td>\n",
       "      <td>furniture/equipment</td>\n",
       "      <td>good</td>\n",
       "    </tr>\n",
       "    <tr>\n",
       "      <td>4</td>\n",
       "      <td>53</td>\n",
       "      <td>male</td>\n",
       "      <td>2</td>\n",
       "      <td>free</td>\n",
       "      <td>little</td>\n",
       "      <td>little</td>\n",
       "      <td>4870</td>\n",
       "      <td>24</td>\n",
       "      <td>car</td>\n",
       "      <td>bad</td>\n",
       "    </tr>\n",
       "  </tbody>\n",
       "</table>\n",
       "</div>"
      ],
      "text/plain": [
       "   Age     Sex  Job Housing Saving accounts Checking account  Credit amount  \\\n",
       "0   67    male    2     own             NaN           little           1169   \n",
       "1   22  female    2     own          little         moderate           5951   \n",
       "2   49    male    1     own          little              NaN           2096   \n",
       "3   45    male    2    free          little           little           7882   \n",
       "4   53    male    2    free          little           little           4870   \n",
       "\n",
       "   Duration              Purpose  Risk  \n",
       "0         6             radio/TV  good  \n",
       "1        48             radio/TV   bad  \n",
       "2        12            education  good  \n",
       "3        42  furniture/equipment  good  \n",
       "4        24                  car   bad  "
      ]
     },
     "execution_count": 19,
     "metadata": {},
     "output_type": "execute_result"
    }
   ],
   "source": [
    "df.head()"
   ]
  },
  {
   "cell_type": "code",
   "execution_count": 20,
   "metadata": {},
   "outputs": [],
   "source": [
    "#Since our variables have some missing values, I assigned them as \"no_inf\"."
   ]
  },
  {
   "cell_type": "code",
   "execution_count": 21,
   "metadata": {},
   "outputs": [
    {
     "data": {
      "text/plain": [
       "little        603\n",
       "moderate      103\n",
       "quite rich     63\n",
       "rich           48\n",
       "Name: Saving accounts, dtype: int64"
      ]
     },
     "execution_count": 21,
     "metadata": {},
     "output_type": "execute_result"
    }
   ],
   "source": [
    "df[\"Saving accounts\"].value_counts()"
   ]
  },
  {
   "cell_type": "code",
   "execution_count": 22,
   "metadata": {},
   "outputs": [],
   "source": [
    "df[\"Saving accounts\"].fillna(\"no_inf\",inplace = True)"
   ]
  },
  {
   "cell_type": "code",
   "execution_count": 23,
   "metadata": {},
   "outputs": [
    {
     "data": {
      "text/plain": [
       "little      274\n",
       "moderate    269\n",
       "rich         63\n",
       "Name: Checking account, dtype: int64"
      ]
     },
     "execution_count": 23,
     "metadata": {},
     "output_type": "execute_result"
    }
   ],
   "source": [
    "df[\"Checking account\"].value_counts()"
   ]
  },
  {
   "cell_type": "code",
   "execution_count": 24,
   "metadata": {},
   "outputs": [],
   "source": [
    "df[\"Checking account\"].fillna(\"no_inf\",inplace = True)"
   ]
  },
  {
   "cell_type": "code",
   "execution_count": 25,
   "metadata": {},
   "outputs": [],
   "source": [
    "#Since the \"Risk\" variable is our target, we give \"0\" value to default customers and \"1\" to non-default customers."
   ]
  },
  {
   "cell_type": "code",
   "execution_count": 26,
   "metadata": {},
   "outputs": [],
   "source": [
    "df[\"Risk\"] = np.where((df[\"Risk\"] == \"good\"),1,0)"
   ]
  },
  {
   "cell_type": "code",
   "execution_count": 27,
   "metadata": {},
   "outputs": [
    {
     "data": {
      "text/plain": [
       "2    630\n",
       "1    200\n",
       "3    148\n",
       "0     22\n",
       "Name: Job, dtype: int64"
      ]
     },
     "execution_count": 27,
     "metadata": {},
     "output_type": "execute_result"
    }
   ],
   "source": [
    "df[\"Job\"].value_counts()"
   ]
  },
  {
   "cell_type": "code",
   "execution_count": 28,
   "metadata": {},
   "outputs": [],
   "source": [
    "#I preferred the \"Label Encoder\" method to numerate the gender variable"
   ]
  },
  {
   "cell_type": "code",
   "execution_count": 29,
   "metadata": {},
   "outputs": [],
   "source": [
    "lab = LabelEncoder()\n",
    "df[\"Sex\"] = lab.fit_transform(df[\"Sex\"])"
   ]
  },
  {
   "cell_type": "code",
   "execution_count": 30,
   "metadata": {},
   "outputs": [
    {
     "data": {
      "text/html": [
       "<div>\n",
       "<style scoped>\n",
       "    .dataframe tbody tr th:only-of-type {\n",
       "        vertical-align: middle;\n",
       "    }\n",
       "\n",
       "    .dataframe tbody tr th {\n",
       "        vertical-align: top;\n",
       "    }\n",
       "\n",
       "    .dataframe thead th {\n",
       "        text-align: right;\n",
       "    }\n",
       "</style>\n",
       "<table border=\"1\" class=\"dataframe\">\n",
       "  <thead>\n",
       "    <tr style=\"text-align: right;\">\n",
       "      <th></th>\n",
       "      <th>Age</th>\n",
       "      <th>Sex</th>\n",
       "      <th>Job</th>\n",
       "      <th>Housing</th>\n",
       "      <th>Saving accounts</th>\n",
       "      <th>Checking account</th>\n",
       "      <th>Credit amount</th>\n",
       "      <th>Duration</th>\n",
       "      <th>Purpose</th>\n",
       "      <th>Risk</th>\n",
       "    </tr>\n",
       "  </thead>\n",
       "  <tbody>\n",
       "    <tr>\n",
       "      <td>0</td>\n",
       "      <td>67</td>\n",
       "      <td>1</td>\n",
       "      <td>2</td>\n",
       "      <td>own</td>\n",
       "      <td>no_inf</td>\n",
       "      <td>little</td>\n",
       "      <td>1169</td>\n",
       "      <td>6</td>\n",
       "      <td>radio/TV</td>\n",
       "      <td>1</td>\n",
       "    </tr>\n",
       "    <tr>\n",
       "      <td>1</td>\n",
       "      <td>22</td>\n",
       "      <td>0</td>\n",
       "      <td>2</td>\n",
       "      <td>own</td>\n",
       "      <td>little</td>\n",
       "      <td>moderate</td>\n",
       "      <td>5951</td>\n",
       "      <td>48</td>\n",
       "      <td>radio/TV</td>\n",
       "      <td>0</td>\n",
       "    </tr>\n",
       "    <tr>\n",
       "      <td>2</td>\n",
       "      <td>49</td>\n",
       "      <td>1</td>\n",
       "      <td>1</td>\n",
       "      <td>own</td>\n",
       "      <td>little</td>\n",
       "      <td>no_inf</td>\n",
       "      <td>2096</td>\n",
       "      <td>12</td>\n",
       "      <td>education</td>\n",
       "      <td>1</td>\n",
       "    </tr>\n",
       "    <tr>\n",
       "      <td>3</td>\n",
       "      <td>45</td>\n",
       "      <td>1</td>\n",
       "      <td>2</td>\n",
       "      <td>free</td>\n",
       "      <td>little</td>\n",
       "      <td>little</td>\n",
       "      <td>7882</td>\n",
       "      <td>42</td>\n",
       "      <td>furniture/equipment</td>\n",
       "      <td>1</td>\n",
       "    </tr>\n",
       "    <tr>\n",
       "      <td>4</td>\n",
       "      <td>53</td>\n",
       "      <td>1</td>\n",
       "      <td>2</td>\n",
       "      <td>free</td>\n",
       "      <td>little</td>\n",
       "      <td>little</td>\n",
       "      <td>4870</td>\n",
       "      <td>24</td>\n",
       "      <td>car</td>\n",
       "      <td>0</td>\n",
       "    </tr>\n",
       "  </tbody>\n",
       "</table>\n",
       "</div>"
      ],
      "text/plain": [
       "   Age  Sex  Job Housing Saving accounts Checking account  Credit amount  \\\n",
       "0   67    1    2     own          no_inf           little           1169   \n",
       "1   22    0    2     own          little         moderate           5951   \n",
       "2   49    1    1     own          little           no_inf           2096   \n",
       "3   45    1    2    free          little           little           7882   \n",
       "4   53    1    2    free          little           little           4870   \n",
       "\n",
       "   Duration              Purpose  Risk  \n",
       "0         6             radio/TV     1  \n",
       "1        48             radio/TV     0  \n",
       "2        12            education     1  \n",
       "3        42  furniture/equipment     1  \n",
       "4        24                  car     0  "
      ]
     },
     "execution_count": 30,
     "metadata": {},
     "output_type": "execute_result"
    }
   ],
   "source": [
    "df.head()"
   ]
  },
  {
   "cell_type": "code",
   "execution_count": 31,
   "metadata": {},
   "outputs": [],
   "source": [
    "categories_features = [\"Job\",\"Housing\",\"Saving accounts\",\"Checking account\",\"Purpose\"]\n",
    "dummies = []\n",
    "def dummynew(feat_nam):\n",
    "    dummies.append(pd.get_dummies(df[feat_nam],prefix = feat_nam,prefix_sep = \":\"))\n",
    "    \n",
    "for feat_nam in categories_features:\n",
    "    dummynew(feat_nam)"
   ]
  },
  {
   "cell_type": "code",
   "execution_count": 32,
   "metadata": {},
   "outputs": [
    {
     "data": {
      "text/plain": [
       "(1000, 34)"
      ]
     },
     "execution_count": 32,
     "metadata": {},
     "output_type": "execute_result"
    }
   ],
   "source": [
    "dummies_collected = pd.concat(dummies,axis = 1)   \n",
    "df = pd.concat([df,dummies_collected],axis = 1)\n",
    "df.shape"
   ]
  },
  {
   "cell_type": "code",
   "execution_count": 33,
   "metadata": {},
   "outputs": [],
   "source": [
    "#To avoid \"overfitting\", we divide the data into two labels which are train and test."
   ]
  },
  {
   "cell_type": "code",
   "execution_count": 34,
   "metadata": {},
   "outputs": [],
   "source": [
    "y = df[\"Risk\"]\n",
    "X = df.drop(\"Risk\",axis = 1)"
   ]
  },
  {
   "cell_type": "code",
   "execution_count": 35,
   "metadata": {},
   "outputs": [],
   "source": [
    "X_train,X_test,y_train,y_test = train_test_split(X,y,test_size = 0.2,random_state = 0)"
   ]
  },
  {
   "cell_type": "code",
   "execution_count": 36,
   "metadata": {},
   "outputs": [],
   "source": [
    "input_data = X_train\n",
    "target_data = y_train"
   ]
  },
  {
   "cell_type": "markdown",
   "metadata": {},
   "source": [
    "# **WoE (Weight of Evidence)**"
   ]
  },
  {
   "cell_type": "markdown",
   "metadata": {},
   "source": [
    "Since we will use WoE after separating our data as train and test, we write a function to run WoE.\n",
    "It is used as a criterion for scanning variables in credit risk modeling projects, such as the probability of WoE Default.\n",
    "The weight of evidence tells the predictive power of an independent variable in relation to the\n",
    "dependent variable. Since it evolved from credit scoring world, it is generally described as a\n",
    "measure for the separation of good and bad customers. \"Bad Customers\" refers to the customers\n",
    "who defaulted on a loan. and \"Good Customers\" refers to the customers who paid the loan."
   ]
  },
  {
   "cell_type": "code",
   "execution_count": 37,
   "metadata": {},
   "outputs": [],
   "source": [
    "def woe_cat(df, discrete_variabe_name, good_bad_variable_df):\n",
    "    df = pd.concat([df[discrete_variabe_name], good_bad_variable_df], axis = 1)\n",
    "    df = pd.concat([df.groupby(df.columns.values[0], as_index = False)[df.columns.values[1]].count(),\n",
    "                    df.groupby(df.columns.values[0], as_index = False)[df.columns.values[1]].mean()], axis = 1)\n",
    "    df = df.iloc[:, [0, 1, 3]]\n",
    "    df.columns = [df.columns.values[0], 'n_obs', 'prop_good']\n",
    "    df['prop_n_obs'] = df['n_obs'] / df['n_obs'].sum()\n",
    "    df['n_good'] = df['prop_good'] * df['n_obs']\n",
    "    df['n_bad'] = (1 - df['prop_good']) * df['n_obs']\n",
    "    df['prop_n_good'] = df['n_good'] / df['n_good'].sum()\n",
    "    df['prop_n_bad'] = df['n_bad'] / df['n_bad'].sum()\n",
    "    df['WoE'] = np.log(df['prop_n_good'] / df['prop_n_bad'])\n",
    "    df = df.sort_values(['WoE'])\n",
    "    df = df.reset_index(drop = True)\n",
    "    df['diff_prop_good'] = df['prop_good'].diff().abs()\n",
    "    df['diff_WoE'] = df['WoE'].diff().abs()\n",
    "    df['IV'] = (df['prop_n_good'] - df['prop_n_bad']) * df['WoE']\n",
    "    df['IV'] = df['IV'].sum()\n",
    "    return df"
   ]
  },
  {
   "cell_type": "code",
   "execution_count": 38,
   "metadata": {},
   "outputs": [],
   "source": [
    "#I make the following settings to see the complete data "
   ]
  },
  {
   "cell_type": "code",
   "execution_count": 39,
   "metadata": {},
   "outputs": [],
   "source": [
    "pd.options.display.max_columns = None"
   ]
  },
  {
   "cell_type": "code",
   "execution_count": 40,
   "metadata": {},
   "outputs": [],
   "source": [
    "def plot_by_woe(df_woe,rotation_of_x_axis_labels = 0):\n",
    "    x = np.array(df_woe.iloc[:,0].apply(str))\n",
    "    Y = df_woe[\"WoE\"]\n",
    "    plt.figure(figsize = (18,6))\n",
    "    plt.plot(x,Y,marker = \"o\",linestyle = \"--\",color = \"k\")\n",
    "    plt.xlabel(df_woe.columns[0])\n",
    "    plt.ylabel(\"Weight of Evidence\")\n",
    "    plt.title(str(\"Weight of Evidence by\" + df_woe.columns[0]))\n",
    "    plt.xticks(rotation = rotation_of_x_axis_labels)"
   ]
  },
  {
   "cell_type": "code",
   "execution_count": 41,
   "metadata": {},
   "outputs": [
    {
     "data": {
      "text/html": [
       "<div>\n",
       "<style scoped>\n",
       "    .dataframe tbody tr th:only-of-type {\n",
       "        vertical-align: middle;\n",
       "    }\n",
       "\n",
       "    .dataframe tbody tr th {\n",
       "        vertical-align: top;\n",
       "    }\n",
       "\n",
       "    .dataframe thead th {\n",
       "        text-align: right;\n",
       "    }\n",
       "</style>\n",
       "<table border=\"1\" class=\"dataframe\">\n",
       "  <thead>\n",
       "    <tr style=\"text-align: right;\">\n",
       "      <th></th>\n",
       "      <th>Job</th>\n",
       "      <th>n_obs</th>\n",
       "      <th>prop_good</th>\n",
       "      <th>prop_n_obs</th>\n",
       "      <th>n_good</th>\n",
       "      <th>n_bad</th>\n",
       "      <th>prop_n_good</th>\n",
       "      <th>prop_n_bad</th>\n",
       "      <th>WoE</th>\n",
       "      <th>diff_prop_good</th>\n",
       "      <th>diff_WoE</th>\n",
       "      <th>IV</th>\n",
       "    </tr>\n",
       "  </thead>\n",
       "  <tbody>\n",
       "    <tr>\n",
       "      <td>0</td>\n",
       "      <td>3</td>\n",
       "      <td>117</td>\n",
       "      <td>0.632479</td>\n",
       "      <td>0.14625</td>\n",
       "      <td>74.0</td>\n",
       "      <td>43.0</td>\n",
       "      <td>0.132616</td>\n",
       "      <td>0.177686</td>\n",
       "      <td>-0.292556</td>\n",
       "      <td>NaN</td>\n",
       "      <td>NaN</td>\n",
       "      <td>0.016681</td>\n",
       "    </tr>\n",
       "    <tr>\n",
       "      <td>1</td>\n",
       "      <td>0</td>\n",
       "      <td>19</td>\n",
       "      <td>0.684211</td>\n",
       "      <td>0.02375</td>\n",
       "      <td>13.0</td>\n",
       "      <td>6.0</td>\n",
       "      <td>0.023297</td>\n",
       "      <td>0.024793</td>\n",
       "      <td>-0.062231</td>\n",
       "      <td>0.051732</td>\n",
       "      <td>0.230325</td>\n",
       "      <td>0.016681</td>\n",
       "    </tr>\n",
       "    <tr>\n",
       "      <td>2</td>\n",
       "      <td>1</td>\n",
       "      <td>159</td>\n",
       "      <td>0.698113</td>\n",
       "      <td>0.19875</td>\n",
       "      <td>111.0</td>\n",
       "      <td>48.0</td>\n",
       "      <td>0.198925</td>\n",
       "      <td>0.198347</td>\n",
       "      <td>0.002908</td>\n",
       "      <td>0.013903</td>\n",
       "      <td>0.065139</td>\n",
       "      <td>0.016681</td>\n",
       "    </tr>\n",
       "    <tr>\n",
       "      <td>3</td>\n",
       "      <td>2</td>\n",
       "      <td>505</td>\n",
       "      <td>0.712871</td>\n",
       "      <td>0.63125</td>\n",
       "      <td>360.0</td>\n",
       "      <td>145.0</td>\n",
       "      <td>0.645161</td>\n",
       "      <td>0.599174</td>\n",
       "      <td>0.073949</td>\n",
       "      <td>0.014758</td>\n",
       "      <td>0.071041</td>\n",
       "      <td>0.016681</td>\n",
       "    </tr>\n",
       "  </tbody>\n",
       "</table>\n",
       "</div>"
      ],
      "text/plain": [
       "   Job  n_obs  prop_good  prop_n_obs  n_good  n_bad  prop_n_good  prop_n_bad  \\\n",
       "0    3    117   0.632479     0.14625    74.0   43.0     0.132616    0.177686   \n",
       "1    0     19   0.684211     0.02375    13.0    6.0     0.023297    0.024793   \n",
       "2    1    159   0.698113     0.19875   111.0   48.0     0.198925    0.198347   \n",
       "3    2    505   0.712871     0.63125   360.0  145.0     0.645161    0.599174   \n",
       "\n",
       "        WoE  diff_prop_good  diff_WoE        IV  \n",
       "0 -0.292556             NaN       NaN  0.016681  \n",
       "1 -0.062231        0.051732  0.230325  0.016681  \n",
       "2  0.002908        0.013903  0.065139  0.016681  \n",
       "3  0.073949        0.014758  0.071041  0.016681  "
      ]
     },
     "execution_count": 41,
     "metadata": {},
     "output_type": "execute_result"
    }
   ],
   "source": [
    "df_temp = woe_cat(input_data,\"Job\",target_data)\n",
    "df_temp"
   ]
  },
  {
   "cell_type": "code",
   "execution_count": 42,
   "metadata": {},
   "outputs": [
    {
     "data": {
      "image/png": "[encoded data removed]",
      "text/plain": [
       "<Figure size 1296x432 with 1 Axes>"
      ]
     },
     "metadata": {
      "needs_background": "light"
     },
     "output_type": "display_data"
    }
   ],
   "source": [
    "plot_by_woe(df_temp)"
   ]
  },
  {
   "cell_type": "code",
   "execution_count": 43,
   "metadata": {},
   "outputs": [
    {
     "data": {
      "text/html": [
       "<div>\n",
       "<style scoped>\n",
       "    .dataframe tbody tr th:only-of-type {\n",
       "        vertical-align: middle;\n",
       "    }\n",
       "\n",
       "    .dataframe tbody tr th {\n",
       "        vertical-align: top;\n",
       "    }\n",
       "\n",
       "    .dataframe thead th {\n",
       "        text-align: right;\n",
       "    }\n",
       "</style>\n",
       "<table border=\"1\" class=\"dataframe\">\n",
       "  <thead>\n",
       "    <tr style=\"text-align: right;\">\n",
       "      <th></th>\n",
       "      <th>Housing</th>\n",
       "      <th>n_obs</th>\n",
       "      <th>prop_good</th>\n",
       "      <th>prop_n_obs</th>\n",
       "      <th>n_good</th>\n",
       "      <th>n_bad</th>\n",
       "      <th>prop_n_good</th>\n",
       "      <th>prop_n_bad</th>\n",
       "      <th>WoE</th>\n",
       "      <th>diff_prop_good</th>\n",
       "      <th>diff_WoE</th>\n",
       "      <th>IV</th>\n",
       "    </tr>\n",
       "  </thead>\n",
       "  <tbody>\n",
       "    <tr>\n",
       "      <td>0</td>\n",
       "      <td>rent</td>\n",
       "      <td>143</td>\n",
       "      <td>0.587413</td>\n",
       "      <td>0.17875</td>\n",
       "      <td>84.0</td>\n",
       "      <td>59.0</td>\n",
       "      <td>0.150538</td>\n",
       "      <td>0.243802</td>\n",
       "      <td>-0.482142</td>\n",
       "      <td>NaN</td>\n",
       "      <td>NaN</td>\n",
       "      <td>0.088546</td>\n",
       "    </tr>\n",
       "    <tr>\n",
       "      <td>1</td>\n",
       "      <td>free</td>\n",
       "      <td>85</td>\n",
       "      <td>0.611765</td>\n",
       "      <td>0.10625</td>\n",
       "      <td>52.0</td>\n",
       "      <td>33.0</td>\n",
       "      <td>0.093190</td>\n",
       "      <td>0.136364</td>\n",
       "      <td>-0.380685</td>\n",
       "      <td>0.024352</td>\n",
       "      <td>0.101457</td>\n",
       "      <td>0.088546</td>\n",
       "    </tr>\n",
       "    <tr>\n",
       "      <td>2</td>\n",
       "      <td>own</td>\n",
       "      <td>572</td>\n",
       "      <td>0.737762</td>\n",
       "      <td>0.71500</td>\n",
       "      <td>422.0</td>\n",
       "      <td>150.0</td>\n",
       "      <td>0.756272</td>\n",
       "      <td>0.619835</td>\n",
       "      <td>0.198949</td>\n",
       "      <td>0.125998</td>\n",
       "      <td>0.579634</td>\n",
       "      <td>0.088546</td>\n",
       "    </tr>\n",
       "  </tbody>\n",
       "</table>\n",
       "</div>"
      ],
      "text/plain": [
       "  Housing  n_obs  prop_good  prop_n_obs  n_good  n_bad  prop_n_good  \\\n",
       "0    rent    143   0.587413     0.17875    84.0   59.0     0.150538   \n",
       "1    free     85   0.611765     0.10625    52.0   33.0     0.093190   \n",
       "2     own    572   0.737762     0.71500   422.0  150.0     0.756272   \n",
       "\n",
       "   prop_n_bad       WoE  diff_prop_good  diff_WoE        IV  \n",
       "0    0.243802 -0.482142             NaN       NaN  0.088546  \n",
       "1    0.136364 -0.380685        0.024352  0.101457  0.088546  \n",
       "2    0.619835  0.198949        0.125998  0.579634  0.088546  "
      ]
     },
     "execution_count": 43,
     "metadata": {},
     "output_type": "execute_result"
    }
   ],
   "source": [
    "df_temp = woe_cat(input_data,\"Housing\",target_data)\n",
    "df_temp"
   ]
  },
  {
   "cell_type": "code",
   "execution_count": 44,
   "metadata": {},
   "outputs": [
    {
     "data": {
      "image/png": "[encoded data removed]",
      "text/plain": [
       "<Figure size 1296x432 with 1 Axes>"
      ]
     },
     "metadata": {
      "needs_background": "light"
     },
     "output_type": "display_data"
    }
   ],
   "source": [
    "plot_by_woe(df_temp)"
   ]
  },
  {
   "cell_type": "code",
   "execution_count": 45,
   "metadata": {},
   "outputs": [],
   "source": [
    "def input_data_dropper(input_data,key_list,axis = 1):\n",
    "    for key in key_list:\n",
    "        input_data = input_data.drop(key, axis = axis)\n",
    "    return input_data\n"
   ]
  },
  {
   "cell_type": "code",
   "execution_count": 46,
   "metadata": {},
   "outputs": [],
   "source": [
    "key_list = [\"Housing:free\",\"Housing:rent\"]\n",
    "input_data[\"Housing:free_rent\"] = sum([input_data[\"Housing:free\"],input_data[\"Housing:rent\"]])\n",
    "input_data = input_data_dropper(input_data,key_list)"
   ]
  },
  {
   "cell_type": "code",
   "execution_count": 47,
   "metadata": {},
   "outputs": [
    {
     "name": "stdout",
     "output_type": "stream",
     "text": [
      "<class 'pandas.core.frame.DataFrame'>\n",
      "Int64Index: 800 entries, 687 to 684\n",
      "Data columns (total 32 columns):\n",
      "Age                            800 non-null int64\n",
      "Sex                            800 non-null int32\n",
      "Job                            800 non-null int64\n",
      "Housing                        800 non-null object\n",
      "Saving accounts                800 non-null object\n",
      "Checking account               800 non-null object\n",
      "Credit amount                  800 non-null int64\n",
      "Duration                       800 non-null int64\n",
      "Purpose                        800 non-null object\n",
      "Job:0                          800 non-null uint8\n",
      "Job:1                          800 non-null uint8\n",
      "Job:2                          800 non-null uint8\n",
      "Job:3                          800 non-null uint8\n",
      "Housing:own                    800 non-null uint8\n",
      "Saving accounts:little         800 non-null uint8\n",
      "Saving accounts:moderate       800 non-null uint8\n",
      "Saving accounts:no_inf         800 non-null uint8\n",
      "Saving accounts:quite rich     800 non-null uint8\n",
      "Saving accounts:rich           800 non-null uint8\n",
      "Checking account:little        800 non-null uint8\n",
      "Checking account:moderate      800 non-null uint8\n",
      "Checking account:no_inf        800 non-null uint8\n",
      "Checking account:rich          800 non-null uint8\n",
      "Purpose:business               800 non-null uint8\n",
      "Purpose:car                    800 non-null uint8\n",
      "Purpose:domestic appliances    800 non-null uint8\n",
      "Purpose:education              800 non-null uint8\n",
      "Purpose:furniture/equipment    800 non-null uint8\n",
      "Purpose:radio/TV               800 non-null uint8\n",
      "Purpose:repairs                800 non-null uint8\n",
      "Purpose:vacation/others        800 non-null uint8\n",
      "Housing:free_rent              800 non-null uint8\n",
      "dtypes: int32(1), int64(4), object(4), uint8(23)\n",
      "memory usage: 77.3+ KB\n"
     ]
    }
   ],
   "source": [
    "input_data.info()"
   ]
  },
  {
   "cell_type": "code",
   "execution_count": 48,
   "metadata": {},
   "outputs": [],
   "source": [
    "df_temp = woe_cat(input_data,\"Saving accounts\",target_data)"
   ]
  },
  {
   "cell_type": "code",
   "execution_count": 49,
   "metadata": {},
   "outputs": [
    {
     "data": {
      "text/html": [
       "<div>\n",
       "<style scoped>\n",
       "    .dataframe tbody tr th:only-of-type {\n",
       "        vertical-align: middle;\n",
       "    }\n",
       "\n",
       "    .dataframe tbody tr th {\n",
       "        vertical-align: top;\n",
       "    }\n",
       "\n",
       "    .dataframe thead th {\n",
       "        text-align: right;\n",
       "    }\n",
       "</style>\n",
       "<table border=\"1\" class=\"dataframe\">\n",
       "  <thead>\n",
       "    <tr style=\"text-align: right;\">\n",
       "      <th></th>\n",
       "      <th>Saving accounts</th>\n",
       "      <th>n_obs</th>\n",
       "      <th>prop_good</th>\n",
       "      <th>prop_n_obs</th>\n",
       "      <th>n_good</th>\n",
       "      <th>n_bad</th>\n",
       "      <th>prop_n_good</th>\n",
       "      <th>prop_n_bad</th>\n",
       "      <th>WoE</th>\n",
       "      <th>diff_prop_good</th>\n",
       "      <th>diff_WoE</th>\n",
       "      <th>IV</th>\n",
       "    </tr>\n",
       "  </thead>\n",
       "  <tbody>\n",
       "    <tr>\n",
       "      <td>0</td>\n",
       "      <td>little</td>\n",
       "      <td>485</td>\n",
       "      <td>0.639175</td>\n",
       "      <td>0.60625</td>\n",
       "      <td>310.0</td>\n",
       "      <td>175.0</td>\n",
       "      <td>0.555556</td>\n",
       "      <td>0.723140</td>\n",
       "      <td>-0.263635</td>\n",
       "      <td>NaN</td>\n",
       "      <td>NaN</td>\n",
       "      <td>0.195821</td>\n",
       "    </tr>\n",
       "    <tr>\n",
       "      <td>1</td>\n",
       "      <td>moderate</td>\n",
       "      <td>77</td>\n",
       "      <td>0.649351</td>\n",
       "      <td>0.09625</td>\n",
       "      <td>50.0</td>\n",
       "      <td>27.0</td>\n",
       "      <td>0.089606</td>\n",
       "      <td>0.111570</td>\n",
       "      <td>-0.219235</td>\n",
       "      <td>0.010175</td>\n",
       "      <td>0.044400</td>\n",
       "      <td>0.195821</td>\n",
       "    </tr>\n",
       "    <tr>\n",
       "      <td>2</td>\n",
       "      <td>quite rich</td>\n",
       "      <td>53</td>\n",
       "      <td>0.811321</td>\n",
       "      <td>0.06625</td>\n",
       "      <td>43.0</td>\n",
       "      <td>10.0</td>\n",
       "      <td>0.077061</td>\n",
       "      <td>0.041322</td>\n",
       "      <td>0.623194</td>\n",
       "      <td>0.161970</td>\n",
       "      <td>0.842429</td>\n",
       "      <td>0.195821</td>\n",
       "    </tr>\n",
       "    <tr>\n",
       "      <td>3</td>\n",
       "      <td>no_inf</td>\n",
       "      <td>145</td>\n",
       "      <td>0.834483</td>\n",
       "      <td>0.18125</td>\n",
       "      <td>121.0</td>\n",
       "      <td>24.0</td>\n",
       "      <td>0.216846</td>\n",
       "      <td>0.099174</td>\n",
       "      <td>0.782315</td>\n",
       "      <td>0.023162</td>\n",
       "      <td>0.159122</td>\n",
       "      <td>0.195821</td>\n",
       "    </tr>\n",
       "    <tr>\n",
       "      <td>4</td>\n",
       "      <td>rich</td>\n",
       "      <td>40</td>\n",
       "      <td>0.850000</td>\n",
       "      <td>0.05000</td>\n",
       "      <td>34.0</td>\n",
       "      <td>6.0</td>\n",
       "      <td>0.060932</td>\n",
       "      <td>0.024793</td>\n",
       "      <td>0.899180</td>\n",
       "      <td>0.015517</td>\n",
       "      <td>0.116864</td>\n",
       "      <td>0.195821</td>\n",
       "    </tr>\n",
       "  </tbody>\n",
       "</table>\n",
       "</div>"
      ],
      "text/plain": [
       "  Saving accounts  n_obs  prop_good  prop_n_obs  n_good  n_bad  prop_n_good  \\\n",
       "0          little    485   0.639175     0.60625   310.0  175.0     0.555556   \n",
       "1        moderate     77   0.649351     0.09625    50.0   27.0     0.089606   \n",
       "2      quite rich     53   0.811321     0.06625    43.0   10.0     0.077061   \n",
       "3          no_inf    145   0.834483     0.18125   121.0   24.0     0.216846   \n",
       "4            rich     40   0.850000     0.05000    34.0    6.0     0.060932   \n",
       "\n",
       "   prop_n_bad       WoE  diff_prop_good  diff_WoE        IV  \n",
       "0    0.723140 -0.263635             NaN       NaN  0.195821  \n",
       "1    0.111570 -0.219235        0.010175  0.044400  0.195821  \n",
       "2    0.041322  0.623194        0.161970  0.842429  0.195821  \n",
       "3    0.099174  0.782315        0.023162  0.159122  0.195821  \n",
       "4    0.024793  0.899180        0.015517  0.116864  0.195821  "
      ]
     },
     "execution_count": 49,
     "metadata": {},
     "output_type": "execute_result"
    }
   ],
   "source": [
    "df_temp"
   ]
  },
  {
   "cell_type": "code",
   "execution_count": 50,
   "metadata": {},
   "outputs": [
    {
     "data": {
      "image/png": "[encoded data removed]",
      "text/plain": [
       "<Figure size 1296x432 with 1 Axes>"
      ]
     },
     "metadata": {
      "needs_background": "light"
     },
     "output_type": "display_data"
    }
   ],
   "source": [
    "plot_by_woe(df_temp)"
   ]
  },
  {
   "cell_type": "code",
   "execution_count": 51,
   "metadata": {},
   "outputs": [],
   "source": [
    "key_list = [\"Saving accounts:little\",\"Saving accounts:moderate\"]\n",
    "input_data[\"Saving accounts:little_moderate\"] = sum([input_data[\"Saving accounts:little\"],input_data[\"Saving accounts:moderate\"]])\n",
    "input_data = input_data_dropper(input_data,key_list)"
   ]
  },
  {
   "cell_type": "code",
   "execution_count": 52,
   "metadata": {},
   "outputs": [],
   "source": [
    "df_temp = woe_cat(input_data,\"Checking account\",target_data)"
   ]
  },
  {
   "cell_type": "code",
   "execution_count": 53,
   "metadata": {},
   "outputs": [
    {
     "data": {
      "text/html": [
       "<div>\n",
       "<style scoped>\n",
       "    .dataframe tbody tr th:only-of-type {\n",
       "        vertical-align: middle;\n",
       "    }\n",
       "\n",
       "    .dataframe tbody tr th {\n",
       "        vertical-align: top;\n",
       "    }\n",
       "\n",
       "    .dataframe thead th {\n",
       "        text-align: right;\n",
       "    }\n",
       "</style>\n",
       "<table border=\"1\" class=\"dataframe\">\n",
       "  <thead>\n",
       "    <tr style=\"text-align: right;\">\n",
       "      <th></th>\n",
       "      <th>Checking account</th>\n",
       "      <th>n_obs</th>\n",
       "      <th>prop_good</th>\n",
       "      <th>prop_n_obs</th>\n",
       "      <th>n_good</th>\n",
       "      <th>n_bad</th>\n",
       "      <th>prop_n_good</th>\n",
       "      <th>prop_n_bad</th>\n",
       "      <th>WoE</th>\n",
       "      <th>diff_prop_good</th>\n",
       "      <th>diff_WoE</th>\n",
       "      <th>IV</th>\n",
       "    </tr>\n",
       "  </thead>\n",
       "  <tbody>\n",
       "    <tr>\n",
       "      <td>0</td>\n",
       "      <td>little</td>\n",
       "      <td>222</td>\n",
       "      <td>0.495495</td>\n",
       "      <td>0.27750</td>\n",
       "      <td>110.0</td>\n",
       "      <td>112.0</td>\n",
       "      <td>0.197133</td>\n",
       "      <td>0.462810</td>\n",
       "      <td>-0.853440</td>\n",
       "      <td>NaN</td>\n",
       "      <td>NaN</td>\n",
       "      <td>0.6455</td>\n",
       "    </tr>\n",
       "    <tr>\n",
       "      <td>1</td>\n",
       "      <td>moderate</td>\n",
       "      <td>214</td>\n",
       "      <td>0.621495</td>\n",
       "      <td>0.26750</td>\n",
       "      <td>133.0</td>\n",
       "      <td>81.0</td>\n",
       "      <td>0.238351</td>\n",
       "      <td>0.334711</td>\n",
       "      <td>-0.339521</td>\n",
       "      <td>0.126000</td>\n",
       "      <td>0.513918</td>\n",
       "      <td>0.6455</td>\n",
       "    </tr>\n",
       "    <tr>\n",
       "      <td>2</td>\n",
       "      <td>rich</td>\n",
       "      <td>51</td>\n",
       "      <td>0.803922</td>\n",
       "      <td>0.06375</td>\n",
       "      <td>41.0</td>\n",
       "      <td>10.0</td>\n",
       "      <td>0.073477</td>\n",
       "      <td>0.041322</td>\n",
       "      <td>0.575566</td>\n",
       "      <td>0.182426</td>\n",
       "      <td>0.915087</td>\n",
       "      <td>0.6455</td>\n",
       "    </tr>\n",
       "    <tr>\n",
       "      <td>3</td>\n",
       "      <td>no_inf</td>\n",
       "      <td>313</td>\n",
       "      <td>0.875399</td>\n",
       "      <td>0.39125</td>\n",
       "      <td>274.0</td>\n",
       "      <td>39.0</td>\n",
       "      <td>0.491039</td>\n",
       "      <td>0.161157</td>\n",
       "      <td>1.114145</td>\n",
       "      <td>0.071478</td>\n",
       "      <td>0.538579</td>\n",
       "      <td>0.6455</td>\n",
       "    </tr>\n",
       "  </tbody>\n",
       "</table>\n",
       "</div>"
      ],
      "text/plain": [
       "  Checking account  n_obs  prop_good  prop_n_obs  n_good  n_bad  prop_n_good  \\\n",
       "0           little    222   0.495495     0.27750   110.0  112.0     0.197133   \n",
       "1         moderate    214   0.621495     0.26750   133.0   81.0     0.238351   \n",
       "2             rich     51   0.803922     0.06375    41.0   10.0     0.073477   \n",
       "3           no_inf    313   0.875399     0.39125   274.0   39.0     0.491039   \n",
       "\n",
       "   prop_n_bad       WoE  diff_prop_good  diff_WoE      IV  \n",
       "0    0.462810 -0.853440             NaN       NaN  0.6455  \n",
       "1    0.334711 -0.339521        0.126000  0.513918  0.6455  \n",
       "2    0.041322  0.575566        0.182426  0.915087  0.6455  \n",
       "3    0.161157  1.114145        0.071478  0.538579  0.6455  "
      ]
     },
     "execution_count": 53,
     "metadata": {},
     "output_type": "execute_result"
    }
   ],
   "source": [
    "df_temp"
   ]
  },
  {
   "cell_type": "code",
   "execution_count": 54,
   "metadata": {},
   "outputs": [
    {
     "data": {
      "image/png": "[encoded data removed]",
      "text/plain": [
       "<Figure size 1296x432 with 1 Axes>"
      ]
     },
     "metadata": {
      "needs_background": "light"
     },
     "output_type": "display_data"
    }
   ],
   "source": [
    "plot_by_woe(df_temp)"
   ]
  },
  {
   "cell_type": "code",
   "execution_count": 55,
   "metadata": {},
   "outputs": [],
   "source": [
    "df_temp = woe_cat(input_data,\"Purpose\",target_data)"
   ]
  },
  {
   "cell_type": "code",
   "execution_count": 56,
   "metadata": {},
   "outputs": [
    {
     "data": {
      "text/html": [
       "<div>\n",
       "<style scoped>\n",
       "    .dataframe tbody tr th:only-of-type {\n",
       "        vertical-align: middle;\n",
       "    }\n",
       "\n",
       "    .dataframe tbody tr th {\n",
       "        vertical-align: top;\n",
       "    }\n",
       "\n",
       "    .dataframe thead th {\n",
       "        text-align: right;\n",
       "    }\n",
       "</style>\n",
       "<table border=\"1\" class=\"dataframe\">\n",
       "  <thead>\n",
       "    <tr style=\"text-align: right;\">\n",
       "      <th></th>\n",
       "      <th>Purpose</th>\n",
       "      <th>n_obs</th>\n",
       "      <th>prop_good</th>\n",
       "      <th>prop_n_obs</th>\n",
       "      <th>n_good</th>\n",
       "      <th>n_bad</th>\n",
       "      <th>prop_n_good</th>\n",
       "      <th>prop_n_bad</th>\n",
       "      <th>WoE</th>\n",
       "      <th>diff_prop_good</th>\n",
       "      <th>diff_WoE</th>\n",
       "      <th>IV</th>\n",
       "    </tr>\n",
       "  </thead>\n",
       "  <tbody>\n",
       "    <tr>\n",
       "      <td>0</td>\n",
       "      <td>vacation/others</td>\n",
       "      <td>11</td>\n",
       "      <td>0.545455</td>\n",
       "      <td>0.01375</td>\n",
       "      <td>6.0</td>\n",
       "      <td>5.0</td>\n",
       "      <td>0.010753</td>\n",
       "      <td>0.020661</td>\n",
       "      <td>-0.653100</td>\n",
       "      <td>NaN</td>\n",
       "      <td>NaN</td>\n",
       "      <td>0.082804</td>\n",
       "    </tr>\n",
       "    <tr>\n",
       "      <td>1</td>\n",
       "      <td>domestic appliances</td>\n",
       "      <td>10</td>\n",
       "      <td>0.600000</td>\n",
       "      <td>0.01250</td>\n",
       "      <td>6.0</td>\n",
       "      <td>4.0</td>\n",
       "      <td>0.010753</td>\n",
       "      <td>0.016529</td>\n",
       "      <td>-0.429956</td>\n",
       "      <td>0.054545</td>\n",
       "      <td>0.223144</td>\n",
       "      <td>0.082804</td>\n",
       "    </tr>\n",
       "    <tr>\n",
       "      <td>2</td>\n",
       "      <td>education</td>\n",
       "      <td>51</td>\n",
       "      <td>0.607843</td>\n",
       "      <td>0.06375</td>\n",
       "      <td>31.0</td>\n",
       "      <td>20.0</td>\n",
       "      <td>0.055556</td>\n",
       "      <td>0.082645</td>\n",
       "      <td>-0.397166</td>\n",
       "      <td>0.007843</td>\n",
       "      <td>0.032790</td>\n",
       "      <td>0.082804</td>\n",
       "    </tr>\n",
       "    <tr>\n",
       "      <td>3</td>\n",
       "      <td>business</td>\n",
       "      <td>83</td>\n",
       "      <td>0.626506</td>\n",
       "      <td>0.10375</td>\n",
       "      <td>52.0</td>\n",
       "      <td>31.0</td>\n",
       "      <td>0.093190</td>\n",
       "      <td>0.128099</td>\n",
       "      <td>-0.318165</td>\n",
       "      <td>0.018663</td>\n",
       "      <td>0.079002</td>\n",
       "      <td>0.082804</td>\n",
       "    </tr>\n",
       "    <tr>\n",
       "      <td>4</td>\n",
       "      <td>repairs</td>\n",
       "      <td>19</td>\n",
       "      <td>0.631579</td>\n",
       "      <td>0.02375</td>\n",
       "      <td>12.0</td>\n",
       "      <td>7.0</td>\n",
       "      <td>0.021505</td>\n",
       "      <td>0.028926</td>\n",
       "      <td>-0.296425</td>\n",
       "      <td>0.005073</td>\n",
       "      <td>0.021740</td>\n",
       "      <td>0.082804</td>\n",
       "    </tr>\n",
       "    <tr>\n",
       "      <td>5</td>\n",
       "      <td>furniture/equipment</td>\n",
       "      <td>137</td>\n",
       "      <td>0.671533</td>\n",
       "      <td>0.17125</td>\n",
       "      <td>92.0</td>\n",
       "      <td>45.0</td>\n",
       "      <td>0.164875</td>\n",
       "      <td>0.185950</td>\n",
       "      <td>-0.120295</td>\n",
       "      <td>0.039954</td>\n",
       "      <td>0.176130</td>\n",
       "      <td>0.082804</td>\n",
       "    </tr>\n",
       "    <tr>\n",
       "      <td>6</td>\n",
       "      <td>car</td>\n",
       "      <td>266</td>\n",
       "      <td>0.695489</td>\n",
       "      <td>0.33250</td>\n",
       "      <td>185.0</td>\n",
       "      <td>81.0</td>\n",
       "      <td>0.331541</td>\n",
       "      <td>0.334711</td>\n",
       "      <td>-0.009515</td>\n",
       "      <td>0.023956</td>\n",
       "      <td>0.110781</td>\n",
       "      <td>0.082804</td>\n",
       "    </tr>\n",
       "    <tr>\n",
       "      <td>7</td>\n",
       "      <td>radio/TV</td>\n",
       "      <td>223</td>\n",
       "      <td>0.780269</td>\n",
       "      <td>0.27875</td>\n",
       "      <td>174.0</td>\n",
       "      <td>49.0</td>\n",
       "      <td>0.311828</td>\n",
       "      <td>0.202479</td>\n",
       "      <td>0.431814</td>\n",
       "      <td>0.084780</td>\n",
       "      <td>0.441328</td>\n",
       "      <td>0.082804</td>\n",
       "    </tr>\n",
       "  </tbody>\n",
       "</table>\n",
       "</div>"
      ],
      "text/plain": [
       "               Purpose  n_obs  prop_good  prop_n_obs  n_good  n_bad  \\\n",
       "0      vacation/others     11   0.545455     0.01375     6.0    5.0   \n",
       "1  domestic appliances     10   0.600000     0.01250     6.0    4.0   \n",
       "2            education     51   0.607843     0.06375    31.0   20.0   \n",
       "3             business     83   0.626506     0.10375    52.0   31.0   \n",
       "4              repairs     19   0.631579     0.02375    12.0    7.0   \n",
       "5  furniture/equipment    137   0.671533     0.17125    92.0   45.0   \n",
       "6                  car    266   0.695489     0.33250   185.0   81.0   \n",
       "7             radio/TV    223   0.780269     0.27875   174.0   49.0   \n",
       "\n",
       "   prop_n_good  prop_n_bad       WoE  diff_prop_good  diff_WoE        IV  \n",
       "0     0.010753    0.020661 -0.653100             NaN       NaN  0.082804  \n",
       "1     0.010753    0.016529 -0.429956        0.054545  0.223144  0.082804  \n",
       "2     0.055556    0.082645 -0.397166        0.007843  0.032790  0.082804  \n",
       "3     0.093190    0.128099 -0.318165        0.018663  0.079002  0.082804  \n",
       "4     0.021505    0.028926 -0.296425        0.005073  0.021740  0.082804  \n",
       "5     0.164875    0.185950 -0.120295        0.039954  0.176130  0.082804  \n",
       "6     0.331541    0.334711 -0.009515        0.023956  0.110781  0.082804  \n",
       "7     0.311828    0.202479  0.431814        0.084780  0.441328  0.082804  "
      ]
     },
     "execution_count": 56,
     "metadata": {},
     "output_type": "execute_result"
    }
   ],
   "source": [
    "df_temp"
   ]
  },
  {
   "cell_type": "code",
   "execution_count": 57,
   "metadata": {},
   "outputs": [
    {
     "data": {
      "image/png": "[encoded data removed]",
      "text/plain": [
       "<Figure size 1296x432 with 1 Axes>"
      ]
     },
     "metadata": {
      "needs_background": "light"
     },
     "output_type": "display_data"
    }
   ],
   "source": [
    "plot_by_woe(df_temp)"
   ]
  },
  {
   "cell_type": "code",
   "execution_count": 58,
   "metadata": {},
   "outputs": [],
   "source": [
    "key_list = [\"Purpose:domestic appliances\",\"Purpose:education\",\"Purpose:business\",\"Purpose:repairs\"]\n",
    "input_data[\"Purpose:dom_edu\"] = sum([input_data[\"Purpose:domestic appliances\"],input_data[\"Purpose:education\"]])\n",
    "input_data[\"Purpose:bus_rep\"] = sum([input_data[\"Purpose:business\"],input_data[\"Purpose:repairs\"]])                         \n",
    "input_data = input_data_dropper(input_data,key_list)\n"
   ]
  },
  {
   "cell_type": "code",
   "execution_count": 59,
   "metadata": {},
   "outputs": [],
   "source": [
    "def woe_continuous(df, discrete_var_name, good_bad_variable_df):\n",
    "    df = pd.concat([df[discrete_var_name], good_bad_variable_df], axis = 1)\n",
    "    df = pd.concat([df.groupby(df.columns.values[0], as_index = False)[df.columns.values[1]].count(),\n",
    "                    df.groupby(df.columns.values[0], as_index = False)[df.columns.values[1]].mean()], axis = 1)\n",
    "    df = df.iloc[:, [0, 1, 3]]\n",
    "    df.columns = [df.columns.values[0], 'n_obs', 'prop_good']\n",
    "    df['prop_n_obs'] = df['n_obs'] / df['n_obs'].sum()\n",
    "    df['n_good'] = df['prop_good'] * df['n_obs']\n",
    "    df['n_bad'] = (1 - df['prop_good']) * df['n_obs']\n",
    "    df['prop_n_good'] = df['n_good'] / df['n_good'].sum()\n",
    "    df['prop_n_bad'] = df['n_bad'] / df['n_bad'].sum()\n",
    "    df['WoE'] = np.log(df['prop_n_good'] / df['prop_n_bad'])\n",
    "    #df = df.sort_values(['WoE'])\n",
    "    #df = df.reset_index(drop = True)\n",
    "    df['diff_prop_good'] = df['prop_good'].diff().abs()\n",
    "    df['diff_WoE'] = df['WoE'].diff().abs()\n",
    "    df['IV'] = (df['prop_n_good'] - df['prop_n_bad']) * df['WoE']\n",
    "    df['IV'] = df['IV'].sum()\n",
    "    return df\n"
   ]
  },
  {
   "cell_type": "code",
   "execution_count": 60,
   "metadata": {},
   "outputs": [],
   "source": [
    "input_data[\"Age_2\"] = pd.cut(input_data[\"Age\"],5)\n",
    "df_temp = woe_continuous(input_data,\"Age_2\",target_data)"
   ]
  },
  {
   "cell_type": "code",
   "execution_count": 61,
   "metadata": {},
   "outputs": [
    {
     "data": {
      "text/html": [
       "<div>\n",
       "<style scoped>\n",
       "    .dataframe tbody tr th:only-of-type {\n",
       "        vertical-align: middle;\n",
       "    }\n",
       "\n",
       "    .dataframe tbody tr th {\n",
       "        vertical-align: top;\n",
       "    }\n",
       "\n",
       "    .dataframe thead th {\n",
       "        text-align: right;\n",
       "    }\n",
       "</style>\n",
       "<table border=\"1\" class=\"dataframe\">\n",
       "  <thead>\n",
       "    <tr style=\"text-align: right;\">\n",
       "      <th></th>\n",
       "      <th>Age_2</th>\n",
       "      <th>n_obs</th>\n",
       "      <th>prop_good</th>\n",
       "      <th>prop_n_obs</th>\n",
       "      <th>n_good</th>\n",
       "      <th>n_bad</th>\n",
       "      <th>prop_n_good</th>\n",
       "      <th>prop_n_bad</th>\n",
       "      <th>WoE</th>\n",
       "      <th>diff_prop_good</th>\n",
       "      <th>diff_WoE</th>\n",
       "      <th>IV</th>\n",
       "    </tr>\n",
       "  </thead>\n",
       "  <tbody>\n",
       "    <tr>\n",
       "      <td>0</td>\n",
       "      <td>(18.944, 30.2]</td>\n",
       "      <td>318</td>\n",
       "      <td>0.644654</td>\n",
       "      <td>0.39750</td>\n",
       "      <td>205.0</td>\n",
       "      <td>113.0</td>\n",
       "      <td>0.367384</td>\n",
       "      <td>0.466942</td>\n",
       "      <td>-0.239799</td>\n",
       "      <td>NaN</td>\n",
       "      <td>NaN</td>\n",
       "      <td>0.057257</td>\n",
       "    </tr>\n",
       "    <tr>\n",
       "      <td>1</td>\n",
       "      <td>(30.2, 41.4]</td>\n",
       "      <td>268</td>\n",
       "      <td>0.731343</td>\n",
       "      <td>0.33500</td>\n",
       "      <td>196.0</td>\n",
       "      <td>72.0</td>\n",
       "      <td>0.351254</td>\n",
       "      <td>0.297521</td>\n",
       "      <td>0.166027</td>\n",
       "      <td>0.086689</td>\n",
       "      <td>0.405826</td>\n",
       "      <td>0.057257</td>\n",
       "    </tr>\n",
       "    <tr>\n",
       "      <td>2</td>\n",
       "      <td>(41.4, 52.6]</td>\n",
       "      <td>131</td>\n",
       "      <td>0.755725</td>\n",
       "      <td>0.16375</td>\n",
       "      <td>99.0</td>\n",
       "      <td>32.0</td>\n",
       "      <td>0.177419</td>\n",
       "      <td>0.132231</td>\n",
       "      <td>0.293963</td>\n",
       "      <td>0.024382</td>\n",
       "      <td>0.127935</td>\n",
       "      <td>0.057257</td>\n",
       "    </tr>\n",
       "    <tr>\n",
       "      <td>3</td>\n",
       "      <td>(52.6, 63.8]</td>\n",
       "      <td>58</td>\n",
       "      <td>0.655172</td>\n",
       "      <td>0.07250</td>\n",
       "      <td>38.0</td>\n",
       "      <td>20.0</td>\n",
       "      <td>0.068100</td>\n",
       "      <td>0.082645</td>\n",
       "      <td>-0.193567</td>\n",
       "      <td>0.100553</td>\n",
       "      <td>0.487530</td>\n",
       "      <td>0.057257</td>\n",
       "    </tr>\n",
       "    <tr>\n",
       "      <td>4</td>\n",
       "      <td>(63.8, 75.0]</td>\n",
       "      <td>25</td>\n",
       "      <td>0.800000</td>\n",
       "      <td>0.03125</td>\n",
       "      <td>20.0</td>\n",
       "      <td>5.0</td>\n",
       "      <td>0.035842</td>\n",
       "      <td>0.020661</td>\n",
       "      <td>0.550873</td>\n",
       "      <td>0.144828</td>\n",
       "      <td>0.744440</td>\n",
       "      <td>0.057257</td>\n",
       "    </tr>\n",
       "  </tbody>\n",
       "</table>\n",
       "</div>"
      ],
      "text/plain": [
       "            Age_2  n_obs  prop_good  prop_n_obs  n_good  n_bad  prop_n_good  \\\n",
       "0  (18.944, 30.2]    318   0.644654     0.39750   205.0  113.0     0.367384   \n",
       "1    (30.2, 41.4]    268   0.731343     0.33500   196.0   72.0     0.351254   \n",
       "2    (41.4, 52.6]    131   0.755725     0.16375    99.0   32.0     0.177419   \n",
       "3    (52.6, 63.8]     58   0.655172     0.07250    38.0   20.0     0.068100   \n",
       "4    (63.8, 75.0]     25   0.800000     0.03125    20.0    5.0     0.035842   \n",
       "\n",
       "   prop_n_bad       WoE  diff_prop_good  diff_WoE        IV  \n",
       "0    0.466942 -0.239799             NaN       NaN  0.057257  \n",
       "1    0.297521  0.166027        0.086689  0.405826  0.057257  \n",
       "2    0.132231  0.293963        0.024382  0.127935  0.057257  \n",
       "3    0.082645 -0.193567        0.100553  0.487530  0.057257  \n",
       "4    0.020661  0.550873        0.144828  0.744440  0.057257  "
      ]
     },
     "execution_count": 61,
     "metadata": {},
     "output_type": "execute_result"
    }
   ],
   "source": [
    "df_temp"
   ]
  },
  {
   "cell_type": "code",
   "execution_count": 62,
   "metadata": {},
   "outputs": [
    {
     "data": {
      "image/png": "[encoded data removed]",
      "text/plain": [
       "<Figure size 1296x432 with 1 Axes>"
      ]
     },
     "metadata": {
      "needs_background": "light"
     },
     "output_type": "display_data"
    }
   ],
   "source": [
    "plot_by_woe(df_temp)"
   ]
  },
  {
   "cell_type": "code",
   "execution_count": 63,
   "metadata": {},
   "outputs": [],
   "source": [
    "input_data[\"Age:30\"] = np.where((input_data[\"Age\"] <= 30),1,0)\n",
    "input_data[\"Age:30-42\"] = np.where((input_data[\"Age\"]>30) & (input_data[\"Age\"] <= 42),1,0)\n",
    "input_data[\"Age:42-52\"] = np.where((input_data[\"Age\"]>42) & (input_data[\"Age\"] <=52),1,0)\n",
    "input_data[\"Age:52-64\"] = np.where((input_data[\"Age\"]>52) & (input_data[\"Age\"] <= 64),1,0)\n",
    "input_data[\"Age:64\"] = np.where((input_data[\"Age\"] > 64),1,0)"
   ]
  },
  {
   "cell_type": "code",
   "execution_count": 64,
   "metadata": {},
   "outputs": [],
   "source": [
    "input_data[\"cr_amount\"] = pd.cut(input_data[\"Credit amount\"],10)\n",
    "df_temp = woe_continuous(input_data,\"cr_amount\",target_data)"
   ]
  },
  {
   "cell_type": "code",
   "execution_count": 65,
   "metadata": {},
   "outputs": [
    {
     "data": {
      "text/html": [
       "<div>\n",
       "<style scoped>\n",
       "    .dataframe tbody tr th:only-of-type {\n",
       "        vertical-align: middle;\n",
       "    }\n",
       "\n",
       "    .dataframe tbody tr th {\n",
       "        vertical-align: top;\n",
       "    }\n",
       "\n",
       "    .dataframe thead th {\n",
       "        text-align: right;\n",
       "    }\n",
       "</style>\n",
       "<table border=\"1\" class=\"dataframe\">\n",
       "  <thead>\n",
       "    <tr style=\"text-align: right;\">\n",
       "      <th></th>\n",
       "      <th>cr_amount</th>\n",
       "      <th>n_obs</th>\n",
       "      <th>prop_good</th>\n",
       "      <th>prop_n_obs</th>\n",
       "      <th>n_good</th>\n",
       "      <th>n_bad</th>\n",
       "      <th>prop_n_good</th>\n",
       "      <th>prop_n_bad</th>\n",
       "      <th>WoE</th>\n",
       "      <th>diff_prop_good</th>\n",
       "      <th>diff_WoE</th>\n",
       "      <th>IV</th>\n",
       "    </tr>\n",
       "  </thead>\n",
       "  <tbody>\n",
       "    <tr>\n",
       "      <td>0</td>\n",
       "      <td>(231.826, 2067.4]</td>\n",
       "      <td>363</td>\n",
       "      <td>0.713499</td>\n",
       "      <td>0.45375</td>\n",
       "      <td>259.0</td>\n",
       "      <td>104.0</td>\n",
       "      <td>0.464158</td>\n",
       "      <td>0.429752</td>\n",
       "      <td>0.077016</td>\n",
       "      <td>NaN</td>\n",
       "      <td>NaN</td>\n",
       "      <td>inf</td>\n",
       "    </tr>\n",
       "    <tr>\n",
       "      <td>1</td>\n",
       "      <td>(2067.4, 3884.8]</td>\n",
       "      <td>232</td>\n",
       "      <td>0.793103</td>\n",
       "      <td>0.29000</td>\n",
       "      <td>184.0</td>\n",
       "      <td>48.0</td>\n",
       "      <td>0.329749</td>\n",
       "      <td>0.198347</td>\n",
       "      <td>0.508314</td>\n",
       "      <td>0.079605</td>\n",
       "      <td>0.431298</td>\n",
       "      <td>inf</td>\n",
       "    </tr>\n",
       "    <tr>\n",
       "      <td>2</td>\n",
       "      <td>(3884.8, 5702.2]</td>\n",
       "      <td>72</td>\n",
       "      <td>0.527778</td>\n",
       "      <td>0.09000</td>\n",
       "      <td>38.0</td>\n",
       "      <td>34.0</td>\n",
       "      <td>0.068100</td>\n",
       "      <td>0.140496</td>\n",
       "      <td>-0.724196</td>\n",
       "      <td>0.265326</td>\n",
       "      <td>1.232509</td>\n",
       "      <td>inf</td>\n",
       "    </tr>\n",
       "    <tr>\n",
       "      <td>3</td>\n",
       "      <td>(5702.2, 7519.6]</td>\n",
       "      <td>64</td>\n",
       "      <td>0.671875</td>\n",
       "      <td>0.08000</td>\n",
       "      <td>43.0</td>\n",
       "      <td>21.0</td>\n",
       "      <td>0.077061</td>\n",
       "      <td>0.086777</td>\n",
       "      <td>-0.118744</td>\n",
       "      <td>0.144097</td>\n",
       "      <td>0.605452</td>\n",
       "      <td>inf</td>\n",
       "    </tr>\n",
       "    <tr>\n",
       "      <td>4</td>\n",
       "      <td>(7519.6, 9337.0]</td>\n",
       "      <td>33</td>\n",
       "      <td>0.606061</td>\n",
       "      <td>0.04125</td>\n",
       "      <td>20.0</td>\n",
       "      <td>13.0</td>\n",
       "      <td>0.035842</td>\n",
       "      <td>0.053719</td>\n",
       "      <td>-0.404638</td>\n",
       "      <td>0.065814</td>\n",
       "      <td>0.285895</td>\n",
       "      <td>inf</td>\n",
       "    </tr>\n",
       "    <tr>\n",
       "      <td>5</td>\n",
       "      <td>(9337.0, 11154.4]</td>\n",
       "      <td>15</td>\n",
       "      <td>0.600000</td>\n",
       "      <td>0.01875</td>\n",
       "      <td>9.0</td>\n",
       "      <td>6.0</td>\n",
       "      <td>0.016129</td>\n",
       "      <td>0.024793</td>\n",
       "      <td>-0.429956</td>\n",
       "      <td>0.006061</td>\n",
       "      <td>0.025318</td>\n",
       "      <td>inf</td>\n",
       "    </tr>\n",
       "    <tr>\n",
       "      <td>6</td>\n",
       "      <td>(11154.4, 12971.8]</td>\n",
       "      <td>9</td>\n",
       "      <td>0.111111</td>\n",
       "      <td>0.01125</td>\n",
       "      <td>1.0</td>\n",
       "      <td>8.0</td>\n",
       "      <td>0.001792</td>\n",
       "      <td>0.033058</td>\n",
       "      <td>-2.914863</td>\n",
       "      <td>0.488889</td>\n",
       "      <td>2.484907</td>\n",
       "      <td>inf</td>\n",
       "    </tr>\n",
       "    <tr>\n",
       "      <td>7</td>\n",
       "      <td>(12971.8, 14789.2]</td>\n",
       "      <td>6</td>\n",
       "      <td>0.333333</td>\n",
       "      <td>0.00750</td>\n",
       "      <td>2.0</td>\n",
       "      <td>4.0</td>\n",
       "      <td>0.003584</td>\n",
       "      <td>0.016529</td>\n",
       "      <td>-1.528568</td>\n",
       "      <td>0.222222</td>\n",
       "      <td>1.386294</td>\n",
       "      <td>inf</td>\n",
       "    </tr>\n",
       "    <tr>\n",
       "      <td>8</td>\n",
       "      <td>(14789.2, 16606.6]</td>\n",
       "      <td>5</td>\n",
       "      <td>0.400000</td>\n",
       "      <td>0.00625</td>\n",
       "      <td>2.0</td>\n",
       "      <td>3.0</td>\n",
       "      <td>0.003584</td>\n",
       "      <td>0.012397</td>\n",
       "      <td>-1.240886</td>\n",
       "      <td>0.066667</td>\n",
       "      <td>0.287682</td>\n",
       "      <td>inf</td>\n",
       "    </tr>\n",
       "    <tr>\n",
       "      <td>9</td>\n",
       "      <td>(16606.6, 18424.0]</td>\n",
       "      <td>1</td>\n",
       "      <td>0.000000</td>\n",
       "      <td>0.00125</td>\n",
       "      <td>0.0</td>\n",
       "      <td>1.0</td>\n",
       "      <td>0.000000</td>\n",
       "      <td>0.004132</td>\n",
       "      <td>-inf</td>\n",
       "      <td>0.400000</td>\n",
       "      <td>inf</td>\n",
       "      <td>inf</td>\n",
       "    </tr>\n",
       "  </tbody>\n",
       "</table>\n",
       "</div>"
      ],
      "text/plain": [
       "            cr_amount  n_obs  prop_good  prop_n_obs  n_good  n_bad  \\\n",
       "0   (231.826, 2067.4]    363   0.713499     0.45375   259.0  104.0   \n",
       "1    (2067.4, 3884.8]    232   0.793103     0.29000   184.0   48.0   \n",
       "2    (3884.8, 5702.2]     72   0.527778     0.09000    38.0   34.0   \n",
       "3    (5702.2, 7519.6]     64   0.671875     0.08000    43.0   21.0   \n",
       "4    (7519.6, 9337.0]     33   0.606061     0.04125    20.0   13.0   \n",
       "5   (9337.0, 11154.4]     15   0.600000     0.01875     9.0    6.0   \n",
       "6  (11154.4, 12971.8]      9   0.111111     0.01125     1.0    8.0   \n",
       "7  (12971.8, 14789.2]      6   0.333333     0.00750     2.0    4.0   \n",
       "8  (14789.2, 16606.6]      5   0.400000     0.00625     2.0    3.0   \n",
       "9  (16606.6, 18424.0]      1   0.000000     0.00125     0.0    1.0   \n",
       "\n",
       "   prop_n_good  prop_n_bad       WoE  diff_prop_good  diff_WoE   IV  \n",
       "0     0.464158    0.429752  0.077016             NaN       NaN  inf  \n",
       "1     0.329749    0.198347  0.508314        0.079605  0.431298  inf  \n",
       "2     0.068100    0.140496 -0.724196        0.265326  1.232509  inf  \n",
       "3     0.077061    0.086777 -0.118744        0.144097  0.605452  inf  \n",
       "4     0.035842    0.053719 -0.404638        0.065814  0.285895  inf  \n",
       "5     0.016129    0.024793 -0.429956        0.006061  0.025318  inf  \n",
       "6     0.001792    0.033058 -2.914863        0.488889  2.484907  inf  \n",
       "7     0.003584    0.016529 -1.528568        0.222222  1.386294  inf  \n",
       "8     0.003584    0.012397 -1.240886        0.066667  0.287682  inf  \n",
       "9     0.000000    0.004132      -inf        0.400000       inf  inf  "
      ]
     },
     "execution_count": 65,
     "metadata": {},
     "output_type": "execute_result"
    }
   ],
   "source": [
    "df_temp"
   ]
  },
  {
   "cell_type": "code",
   "execution_count": 66,
   "metadata": {},
   "outputs": [
    {
     "data": {
      "image/png": "[encoded data removed]",
      "text/plain": [
       "<Figure size 1296x432 with 1 Axes>"
      ]
     },
     "metadata": {
      "needs_background": "light"
     },
     "output_type": "display_data"
    }
   ],
   "source": [
    "plot_by_woe(df_temp,rotation_of_x_axis_labels = 1)"
   ]
  },
  {
   "cell_type": "code",
   "execution_count": 67,
   "metadata": {},
   "outputs": [],
   "source": [
    "input_data[\"cr_amount:2068\"] = np.where((input_data[\"Credit amount\"] <= 2068),1,0)\n",
    "input_data[\"cr_amount:2068-3885\"] = np.where((input_data[\"Credit amount\"] > 2068) & (input_data[\"Credit amount\"] <= 3885),1,0)\n",
    "input_data[\"cr_amount:3885-5703\"] = np.where((input_data[\"Credit amount\"] > 3885) & (input_data[\"Credit amount\"] <= 5703),1,0)\n",
    "input_data[\"cr_amount:5703-11155\"] = np.where((input_data[\"Credit amount\"] > 5703) & (input_data[\"Credit amount\"] <= 11155),1,0)\n",
    "input_data[\"cr_amount:11155\"] = np.where((input_data[\"Credit amount\"] > 11155),1,0)\n"
   ]
  },
  {
   "cell_type": "code",
   "execution_count": 68,
   "metadata": {},
   "outputs": [
    {
     "data": {
      "text/plain": [
       "array([36, 24, 60, 15,  6, 21, 48, 12, 18, 30, 10,  4,  8,  9, 11, 22, 13,\n",
       "       45, 27, 20, 47,  7, 42, 33, 16, 54, 14, 39, 28, 26,  5, 72],\n",
       "      dtype=int64)"
      ]
     },
     "execution_count": 68,
     "metadata": {},
     "output_type": "execute_result"
    }
   ],
   "source": [
    "input_data[\"Duration\"].unique()"
   ]
  },
  {
   "cell_type": "code",
   "execution_count": 69,
   "metadata": {},
   "outputs": [],
   "source": [
    "input_data[\"Duration_2\"] = pd.cut(input_data[\"Duration\"],10)\n",
    "df_temp = woe_continuous(input_data,\"Duration_2\",target_data)"
   ]
  },
  {
   "cell_type": "code",
   "execution_count": 70,
   "metadata": {},
   "outputs": [
    {
     "data": {
      "text/html": [
       "<div>\n",
       "<style scoped>\n",
       "    .dataframe tbody tr th:only-of-type {\n",
       "        vertical-align: middle;\n",
       "    }\n",
       "\n",
       "    .dataframe tbody tr th {\n",
       "        vertical-align: top;\n",
       "    }\n",
       "\n",
       "    .dataframe thead th {\n",
       "        text-align: right;\n",
       "    }\n",
       "</style>\n",
       "<table border=\"1\" class=\"dataframe\">\n",
       "  <thead>\n",
       "    <tr style=\"text-align: right;\">\n",
       "      <th></th>\n",
       "      <th>Duration_2</th>\n",
       "      <th>n_obs</th>\n",
       "      <th>prop_good</th>\n",
       "      <th>prop_n_obs</th>\n",
       "      <th>n_good</th>\n",
       "      <th>n_bad</th>\n",
       "      <th>prop_n_good</th>\n",
       "      <th>prop_n_bad</th>\n",
       "      <th>WoE</th>\n",
       "      <th>diff_prop_good</th>\n",
       "      <th>diff_WoE</th>\n",
       "      <th>IV</th>\n",
       "    </tr>\n",
       "  </thead>\n",
       "  <tbody>\n",
       "    <tr>\n",
       "      <td>0</td>\n",
       "      <td>(3.932, 10.8]</td>\n",
       "      <td>136</td>\n",
       "      <td>0.852941</td>\n",
       "      <td>0.17000</td>\n",
       "      <td>116.0</td>\n",
       "      <td>20.0</td>\n",
       "      <td>0.207885</td>\n",
       "      <td>0.082645</td>\n",
       "      <td>0.922437</td>\n",
       "      <td>NaN</td>\n",
       "      <td>NaN</td>\n",
       "      <td>inf</td>\n",
       "    </tr>\n",
       "    <tr>\n",
       "      <td>1</td>\n",
       "      <td>(10.8, 17.6]</td>\n",
       "      <td>221</td>\n",
       "      <td>0.755656</td>\n",
       "      <td>0.27625</td>\n",
       "      <td>167.0</td>\n",
       "      <td>54.0</td>\n",
       "      <td>0.299283</td>\n",
       "      <td>0.223140</td>\n",
       "      <td>0.293589</td>\n",
       "      <td>0.097285</td>\n",
       "      <td>0.628848</td>\n",
       "      <td>inf</td>\n",
       "    </tr>\n",
       "    <tr>\n",
       "      <td>2</td>\n",
       "      <td>(17.6, 24.4]</td>\n",
       "      <td>262</td>\n",
       "      <td>0.667939</td>\n",
       "      <td>0.32750</td>\n",
       "      <td>175.0</td>\n",
       "      <td>87.0</td>\n",
       "      <td>0.313620</td>\n",
       "      <td>0.359504</td>\n",
       "      <td>-0.136543</td>\n",
       "      <td>0.087717</td>\n",
       "      <td>0.430132</td>\n",
       "      <td>inf</td>\n",
       "    </tr>\n",
       "    <tr>\n",
       "      <td>3</td>\n",
       "      <td>(24.4, 31.2]</td>\n",
       "      <td>44</td>\n",
       "      <td>0.659091</td>\n",
       "      <td>0.05500</td>\n",
       "      <td>29.0</td>\n",
       "      <td>15.0</td>\n",
       "      <td>0.051971</td>\n",
       "      <td>0.061983</td>\n",
       "      <td>-0.176176</td>\n",
       "      <td>0.008848</td>\n",
       "      <td>0.039632</td>\n",
       "      <td>inf</td>\n",
       "    </tr>\n",
       "    <tr>\n",
       "      <td>4</td>\n",
       "      <td>(31.2, 38.0]</td>\n",
       "      <td>71</td>\n",
       "      <td>0.577465</td>\n",
       "      <td>0.08875</td>\n",
       "      <td>41.0</td>\n",
       "      <td>30.0</td>\n",
       "      <td>0.073477</td>\n",
       "      <td>0.123967</td>\n",
       "      <td>-0.523047</td>\n",
       "      <td>0.081626</td>\n",
       "      <td>0.346871</td>\n",
       "      <td>inf</td>\n",
       "    </tr>\n",
       "    <tr>\n",
       "      <td>5</td>\n",
       "      <td>(38.0, 44.8]</td>\n",
       "      <td>13</td>\n",
       "      <td>0.769231</td>\n",
       "      <td>0.01625</td>\n",
       "      <td>10.0</td>\n",
       "      <td>3.0</td>\n",
       "      <td>0.017921</td>\n",
       "      <td>0.012397</td>\n",
       "      <td>0.368552</td>\n",
       "      <td>0.191766</td>\n",
       "      <td>0.891598</td>\n",
       "      <td>inf</td>\n",
       "    </tr>\n",
       "    <tr>\n",
       "      <td>6</td>\n",
       "      <td>(44.8, 51.6]</td>\n",
       "      <td>39</td>\n",
       "      <td>0.358974</td>\n",
       "      <td>0.04875</td>\n",
       "      <td>14.0</td>\n",
       "      <td>25.0</td>\n",
       "      <td>0.025090</td>\n",
       "      <td>0.103306</td>\n",
       "      <td>-1.415240</td>\n",
       "      <td>0.410256</td>\n",
       "      <td>1.783791</td>\n",
       "      <td>inf</td>\n",
       "    </tr>\n",
       "    <tr>\n",
       "      <td>7</td>\n",
       "      <td>(51.6, 58.4]</td>\n",
       "      <td>2</td>\n",
       "      <td>0.500000</td>\n",
       "      <td>0.00250</td>\n",
       "      <td>1.0</td>\n",
       "      <td>1.0</td>\n",
       "      <td>0.001792</td>\n",
       "      <td>0.004132</td>\n",
       "      <td>-0.835421</td>\n",
       "      <td>0.141026</td>\n",
       "      <td>0.579818</td>\n",
       "      <td>inf</td>\n",
       "    </tr>\n",
       "    <tr>\n",
       "      <td>8</td>\n",
       "      <td>(58.4, 65.2]</td>\n",
       "      <td>11</td>\n",
       "      <td>0.454545</td>\n",
       "      <td>0.01375</td>\n",
       "      <td>5.0</td>\n",
       "      <td>6.0</td>\n",
       "      <td>0.008961</td>\n",
       "      <td>0.024793</td>\n",
       "      <td>-1.017743</td>\n",
       "      <td>0.045455</td>\n",
       "      <td>0.182322</td>\n",
       "      <td>inf</td>\n",
       "    </tr>\n",
       "    <tr>\n",
       "      <td>9</td>\n",
       "      <td>(65.2, 72.0]</td>\n",
       "      <td>1</td>\n",
       "      <td>0.000000</td>\n",
       "      <td>0.00125</td>\n",
       "      <td>0.0</td>\n",
       "      <td>1.0</td>\n",
       "      <td>0.000000</td>\n",
       "      <td>0.004132</td>\n",
       "      <td>-inf</td>\n",
       "      <td>0.454545</td>\n",
       "      <td>inf</td>\n",
       "      <td>inf</td>\n",
       "    </tr>\n",
       "  </tbody>\n",
       "</table>\n",
       "</div>"
      ],
      "text/plain": [
       "      Duration_2  n_obs  prop_good  prop_n_obs  n_good  n_bad  prop_n_good  \\\n",
       "0  (3.932, 10.8]    136   0.852941     0.17000   116.0   20.0     0.207885   \n",
       "1   (10.8, 17.6]    221   0.755656     0.27625   167.0   54.0     0.299283   \n",
       "2   (17.6, 24.4]    262   0.667939     0.32750   175.0   87.0     0.313620   \n",
       "3   (24.4, 31.2]     44   0.659091     0.05500    29.0   15.0     0.051971   \n",
       "4   (31.2, 38.0]     71   0.577465     0.08875    41.0   30.0     0.073477   \n",
       "5   (38.0, 44.8]     13   0.769231     0.01625    10.0    3.0     0.017921   \n",
       "6   (44.8, 51.6]     39   0.358974     0.04875    14.0   25.0     0.025090   \n",
       "7   (51.6, 58.4]      2   0.500000     0.00250     1.0    1.0     0.001792   \n",
       "8   (58.4, 65.2]     11   0.454545     0.01375     5.0    6.0     0.008961   \n",
       "9   (65.2, 72.0]      1   0.000000     0.00125     0.0    1.0     0.000000   \n",
       "\n",
       "   prop_n_bad       WoE  diff_prop_good  diff_WoE   IV  \n",
       "0    0.082645  0.922437             NaN       NaN  inf  \n",
       "1    0.223140  0.293589        0.097285  0.628848  inf  \n",
       "2    0.359504 -0.136543        0.087717  0.430132  inf  \n",
       "3    0.061983 -0.176176        0.008848  0.039632  inf  \n",
       "4    0.123967 -0.523047        0.081626  0.346871  inf  \n",
       "5    0.012397  0.368552        0.191766  0.891598  inf  \n",
       "6    0.103306 -1.415240        0.410256  1.783791  inf  \n",
       "7    0.004132 -0.835421        0.141026  0.579818  inf  \n",
       "8    0.024793 -1.017743        0.045455  0.182322  inf  \n",
       "9    0.004132      -inf        0.454545       inf  inf  "
      ]
     },
     "execution_count": 70,
     "metadata": {},
     "output_type": "execute_result"
    }
   ],
   "source": [
    "df_temp"
   ]
  },
  {
   "cell_type": "code",
   "execution_count": 71,
   "metadata": {},
   "outputs": [
    {
     "data": {
      "image/png": "[encoded data removed]",
      "text/plain": [
       "<Figure size 1296x432 with 1 Axes>"
      ]
     },
     "metadata": {
      "needs_background": "light"
     },
     "output_type": "display_data"
    }
   ],
   "source": [
    "plot_by_woe(df_temp)"
   ]
  },
  {
   "cell_type": "code",
   "execution_count": 72,
   "metadata": {},
   "outputs": [],
   "source": [
    "input_data[\"Duration:11\"] = np.where((input_data[\"Duration\"] <= 11),1,0)\n",
    "input_data[\"Duration:11-18\"] = np.where((input_data[\"Duration\"] >11) & (input_data[\"Duration\"] <= 18),1,0)\n",
    "input_data[\"Duration:18-31\"] = np.where((input_data[\"Duration\"] >18) & (input_data[\"Duration\"] <= 31),1,0)\n",
    "input_data[\"Duration:31-38\"] = np.where((input_data[\"Duration\"] >31) & (input_data[\"Duration\"] <= 38),1,0)\n",
    "input_data[\"Duration:38-45\"] = np.where((input_data[\"Duration\"] >38) & (input_data[\"Duration\"] <= 45),1,0)\n",
    "input_data[\"Duration:45-52\"] = np.where((input_data[\"Duration\"] >45) & (input_data[\"Duration\"] <= 52),1,0)\n",
    "input_data[\"Duration:52\"] = np.where((input_data[\"Duration\"] > 52),1,0)"
   ]
  },
  {
   "cell_type": "code",
   "execution_count": 73,
   "metadata": {},
   "outputs": [],
   "source": [
    "key_list = [\"cr_amount\",\"Age_2\",\"Duration_2\",\"Purpose\",\"Checking account\",\"Saving accounts\",\"Housing\",\"Job\",\"Age\",\n",
    "            \"Credit amount\",\"Duration\"]\n",
    "input_data = input_data_dropper(input_data,key_list)"
   ]
  },
  {
   "cell_type": "code",
   "execution_count": 74,
   "metadata": {},
   "outputs": [],
   "source": [
    "key_list = [\"Job:0\",\"Housing:own\",\"Saving accounts:no_inf\",\"Checking account:rich\",\"Purpose:car\",\"Age:64\",\n",
    "            \"Duration:11\",\"cr_amount:2068\"]\n",
    "input_data = input_data_dropper(input_data,key_list)"
   ]
  },
  {
   "cell_type": "code",
   "execution_count": 75,
   "metadata": {},
   "outputs": [],
   "source": [
    "#After numerating the X_train data, we will follow the same steps for X_test. I share this part below."
   ]
  },
  {
   "cell_type": "code",
   "execution_count": 76,
   "metadata": {},
   "outputs": [],
   "source": [
    "X_train = input_data"
   ]
  },
  {
   "cell_type": "code",
   "execution_count": 77,
   "metadata": {},
   "outputs": [
    {
     "data": {
      "text/plain": [
       "(800, 30)"
      ]
     },
     "execution_count": 77,
     "metadata": {},
     "output_type": "execute_result"
    }
   ],
   "source": [
    "X_train.shape"
   ]
  },
  {
   "cell_type": "code",
   "execution_count": 78,
   "metadata": {},
   "outputs": [],
   "source": [
    "input_data = X_test"
   ]
  },
  {
   "cell_type": "code",
   "execution_count": 79,
   "metadata": {},
   "outputs": [
    {
     "data": {
      "text/plain": [
       "(200, 33)"
      ]
     },
     "execution_count": 79,
     "metadata": {},
     "output_type": "execute_result"
    }
   ],
   "source": [
    "input_data.shape"
   ]
  },
  {
   "cell_type": "code",
   "execution_count": 80,
   "metadata": {},
   "outputs": [
    {
     "data": {
      "text/html": [
       "<div>\n",
       "<style scoped>\n",
       "    .dataframe tbody tr th:only-of-type {\n",
       "        vertical-align: middle;\n",
       "    }\n",
       "\n",
       "    .dataframe tbody tr th {\n",
       "        vertical-align: top;\n",
       "    }\n",
       "\n",
       "    .dataframe thead th {\n",
       "        text-align: right;\n",
       "    }\n",
       "</style>\n",
       "<table border=\"1\" class=\"dataframe\">\n",
       "  <thead>\n",
       "    <tr style=\"text-align: right;\">\n",
       "      <th></th>\n",
       "      <th>Age</th>\n",
       "      <th>Sex</th>\n",
       "      <th>Job</th>\n",
       "      <th>Housing</th>\n",
       "      <th>Saving accounts</th>\n",
       "      <th>Checking account</th>\n",
       "      <th>Credit amount</th>\n",
       "      <th>Duration</th>\n",
       "      <th>Purpose</th>\n",
       "      <th>Job:0</th>\n",
       "      <th>Job:1</th>\n",
       "      <th>Job:2</th>\n",
       "      <th>Job:3</th>\n",
       "      <th>Housing:free</th>\n",
       "      <th>Housing:own</th>\n",
       "      <th>Housing:rent</th>\n",
       "      <th>Saving accounts:little</th>\n",
       "      <th>Saving accounts:moderate</th>\n",
       "      <th>Saving accounts:no_inf</th>\n",
       "      <th>Saving accounts:quite rich</th>\n",
       "      <th>Saving accounts:rich</th>\n",
       "      <th>Checking account:little</th>\n",
       "      <th>Checking account:moderate</th>\n",
       "      <th>Checking account:no_inf</th>\n",
       "      <th>Checking account:rich</th>\n",
       "      <th>Purpose:business</th>\n",
       "      <th>Purpose:car</th>\n",
       "      <th>Purpose:domestic appliances</th>\n",
       "      <th>Purpose:education</th>\n",
       "      <th>Purpose:furniture/equipment</th>\n",
       "      <th>Purpose:radio/TV</th>\n",
       "      <th>Purpose:repairs</th>\n",
       "      <th>Purpose:vacation/others</th>\n",
       "    </tr>\n",
       "  </thead>\n",
       "  <tbody>\n",
       "    <tr>\n",
       "      <td>993</td>\n",
       "      <td>30</td>\n",
       "      <td>1</td>\n",
       "      <td>3</td>\n",
       "      <td>own</td>\n",
       "      <td>little</td>\n",
       "      <td>little</td>\n",
       "      <td>3959</td>\n",
       "      <td>36</td>\n",
       "      <td>furniture/equipment</td>\n",
       "      <td>0</td>\n",
       "      <td>0</td>\n",
       "      <td>0</td>\n",
       "      <td>1</td>\n",
       "      <td>0</td>\n",
       "      <td>1</td>\n",
       "      <td>0</td>\n",
       "      <td>1</td>\n",
       "      <td>0</td>\n",
       "      <td>0</td>\n",
       "      <td>0</td>\n",
       "      <td>0</td>\n",
       "      <td>1</td>\n",
       "      <td>0</td>\n",
       "      <td>0</td>\n",
       "      <td>0</td>\n",
       "      <td>0</td>\n",
       "      <td>0</td>\n",
       "      <td>0</td>\n",
       "      <td>0</td>\n",
       "      <td>1</td>\n",
       "      <td>0</td>\n",
       "      <td>0</td>\n",
       "      <td>0</td>\n",
       "    </tr>\n",
       "    <tr>\n",
       "      <td>859</td>\n",
       "      <td>26</td>\n",
       "      <td>1</td>\n",
       "      <td>2</td>\n",
       "      <td>rent</td>\n",
       "      <td>moderate</td>\n",
       "      <td>no_inf</td>\n",
       "      <td>3577</td>\n",
       "      <td>9</td>\n",
       "      <td>car</td>\n",
       "      <td>0</td>\n",
       "      <td>0</td>\n",
       "      <td>1</td>\n",
       "      <td>0</td>\n",
       "      <td>0</td>\n",
       "      <td>0</td>\n",
       "      <td>1</td>\n",
       "      <td>0</td>\n",
       "      <td>1</td>\n",
       "      <td>0</td>\n",
       "      <td>0</td>\n",
       "      <td>0</td>\n",
       "      <td>0</td>\n",
       "      <td>0</td>\n",
       "      <td>1</td>\n",
       "      <td>0</td>\n",
       "      <td>0</td>\n",
       "      <td>1</td>\n",
       "      <td>0</td>\n",
       "      <td>0</td>\n",
       "      <td>0</td>\n",
       "      <td>0</td>\n",
       "      <td>0</td>\n",
       "      <td>0</td>\n",
       "    </tr>\n",
       "    <tr>\n",
       "      <td>298</td>\n",
       "      <td>43</td>\n",
       "      <td>1</td>\n",
       "      <td>2</td>\n",
       "      <td>own</td>\n",
       "      <td>little</td>\n",
       "      <td>no_inf</td>\n",
       "      <td>2515</td>\n",
       "      <td>18</td>\n",
       "      <td>furniture/equipment</td>\n",
       "      <td>0</td>\n",
       "      <td>0</td>\n",
       "      <td>1</td>\n",
       "      <td>0</td>\n",
       "      <td>0</td>\n",
       "      <td>1</td>\n",
       "      <td>0</td>\n",
       "      <td>1</td>\n",
       "      <td>0</td>\n",
       "      <td>0</td>\n",
       "      <td>0</td>\n",
       "      <td>0</td>\n",
       "      <td>0</td>\n",
       "      <td>0</td>\n",
       "      <td>1</td>\n",
       "      <td>0</td>\n",
       "      <td>0</td>\n",
       "      <td>0</td>\n",
       "      <td>0</td>\n",
       "      <td>0</td>\n",
       "      <td>1</td>\n",
       "      <td>0</td>\n",
       "      <td>0</td>\n",
       "      <td>0</td>\n",
       "    </tr>\n",
       "    <tr>\n",
       "      <td>553</td>\n",
       "      <td>27</td>\n",
       "      <td>1</td>\n",
       "      <td>2</td>\n",
       "      <td>own</td>\n",
       "      <td>moderate</td>\n",
       "      <td>moderate</td>\n",
       "      <td>1995</td>\n",
       "      <td>12</td>\n",
       "      <td>car</td>\n",
       "      <td>0</td>\n",
       "      <td>0</td>\n",
       "      <td>1</td>\n",
       "      <td>0</td>\n",
       "      <td>0</td>\n",
       "      <td>1</td>\n",
       "      <td>0</td>\n",
       "      <td>0</td>\n",
       "      <td>1</td>\n",
       "      <td>0</td>\n",
       "      <td>0</td>\n",
       "      <td>0</td>\n",
       "      <td>0</td>\n",
       "      <td>1</td>\n",
       "      <td>0</td>\n",
       "      <td>0</td>\n",
       "      <td>0</td>\n",
       "      <td>1</td>\n",
       "      <td>0</td>\n",
       "      <td>0</td>\n",
       "      <td>0</td>\n",
       "      <td>0</td>\n",
       "      <td>0</td>\n",
       "      <td>0</td>\n",
       "    </tr>\n",
       "    <tr>\n",
       "      <td>672</td>\n",
       "      <td>42</td>\n",
       "      <td>1</td>\n",
       "      <td>3</td>\n",
       "      <td>own</td>\n",
       "      <td>little</td>\n",
       "      <td>no_inf</td>\n",
       "      <td>10366</td>\n",
       "      <td>60</td>\n",
       "      <td>car</td>\n",
       "      <td>0</td>\n",
       "      <td>0</td>\n",
       "      <td>0</td>\n",
       "      <td>1</td>\n",
       "      <td>0</td>\n",
       "      <td>1</td>\n",
       "      <td>0</td>\n",
       "      <td>1</td>\n",
       "      <td>0</td>\n",
       "      <td>0</td>\n",
       "      <td>0</td>\n",
       "      <td>0</td>\n",
       "      <td>0</td>\n",
       "      <td>0</td>\n",
       "      <td>1</td>\n",
       "      <td>0</td>\n",
       "      <td>0</td>\n",
       "      <td>1</td>\n",
       "      <td>0</td>\n",
       "      <td>0</td>\n",
       "      <td>0</td>\n",
       "      <td>0</td>\n",
       "      <td>0</td>\n",
       "      <td>0</td>\n",
       "    </tr>\n",
       "  </tbody>\n",
       "</table>\n",
       "</div>"
      ],
      "text/plain": [
       "     Age  Sex  Job Housing Saving accounts Checking account  Credit amount  \\\n",
       "993   30    1    3     own          little           little           3959   \n",
       "859   26    1    2    rent        moderate           no_inf           3577   \n",
       "298   43    1    2     own          little           no_inf           2515   \n",
       "553   27    1    2     own        moderate         moderate           1995   \n",
       "672   42    1    3     own          little           no_inf          10366   \n",
       "\n",
       "     Duration              Purpose  Job:0  Job:1  Job:2  Job:3  Housing:free  \\\n",
       "993        36  furniture/equipment      0      0      0      1             0   \n",
       "859         9                  car      0      0      1      0             0   \n",
       "298        18  furniture/equipment      0      0      1      0             0   \n",
       "553        12                  car      0      0      1      0             0   \n",
       "672        60                  car      0      0      0      1             0   \n",
       "\n",
       "     Housing:own  Housing:rent  Saving accounts:little  \\\n",
       "993            1             0                       1   \n",
       "859            0             1                       0   \n",
       "298            1             0                       1   \n",
       "553            1             0                       0   \n",
       "672            1             0                       1   \n",
       "\n",
       "     Saving accounts:moderate  Saving accounts:no_inf  \\\n",
       "993                         0                       0   \n",
       "859                         1                       0   \n",
       "298                         0                       0   \n",
       "553                         1                       0   \n",
       "672                         0                       0   \n",
       "\n",
       "     Saving accounts:quite rich  Saving accounts:rich  \\\n",
       "993                           0                     0   \n",
       "859                           0                     0   \n",
       "298                           0                     0   \n",
       "553                           0                     0   \n",
       "672                           0                     0   \n",
       "\n",
       "     Checking account:little  Checking account:moderate  \\\n",
       "993                        1                          0   \n",
       "859                        0                          0   \n",
       "298                        0                          0   \n",
       "553                        0                          1   \n",
       "672                        0                          0   \n",
       "\n",
       "     Checking account:no_inf  Checking account:rich  Purpose:business  \\\n",
       "993                        0                      0                 0   \n",
       "859                        1                      0                 0   \n",
       "298                        1                      0                 0   \n",
       "553                        0                      0                 0   \n",
       "672                        1                      0                 0   \n",
       "\n",
       "     Purpose:car  Purpose:domestic appliances  Purpose:education  \\\n",
       "993            0                            0                  0   \n",
       "859            1                            0                  0   \n",
       "298            0                            0                  0   \n",
       "553            1                            0                  0   \n",
       "672            1                            0                  0   \n",
       "\n",
       "     Purpose:furniture/equipment  Purpose:radio/TV  Purpose:repairs  \\\n",
       "993                            1                 0                0   \n",
       "859                            0                 0                0   \n",
       "298                            1                 0                0   \n",
       "553                            0                 0                0   \n",
       "672                            0                 0                0   \n",
       "\n",
       "     Purpose:vacation/others  \n",
       "993                        0  \n",
       "859                        0  \n",
       "298                        0  \n",
       "553                        0  \n",
       "672                        0  "
      ]
     },
     "execution_count": 80,
     "metadata": {},
     "output_type": "execute_result"
    }
   ],
   "source": [
    "input_data.head()"
   ]
  },
  {
   "cell_type": "code",
   "execution_count": 81,
   "metadata": {},
   "outputs": [],
   "source": [
    "key_list = [\"Housing:free\",\"Housing:rent\"]\n",
    "input_data[\"Housing:free_rent\"] = sum([input_data[\"Housing:free\"],input_data[\"Housing:rent\"]])\n",
    "input_data = input_data_dropper(input_data,key_list)"
   ]
  },
  {
   "cell_type": "code",
   "execution_count": 82,
   "metadata": {},
   "outputs": [],
   "source": [
    "key_list = [\"Saving accounts:little\",\"Saving accounts:moderate\"]\n",
    "input_data[\"Saving accounts:little_moderate\"] = sum([input_data[\"Saving accounts:little\"],input_data[\"Saving accounts:moderate\"]])\n",
    "input_data = input_data_dropper(input_data,key_list)"
   ]
  },
  {
   "cell_type": "code",
   "execution_count": 83,
   "metadata": {},
   "outputs": [],
   "source": [
    "key_list = [\"Purpose:domestic appliances\",\"Purpose:education\",\"Purpose:business\",\"Purpose:repairs\"]\n",
    "input_data[\"Purpose:dom_edu\"] = sum([input_data[\"Purpose:domestic appliances\"],input_data[\"Purpose:education\"]])\n",
    "input_data[\"Purpose:bus_rep\"] = sum([input_data[\"Purpose:business\"],input_data[\"Purpose:repairs\"]])                         \n",
    "input_data = input_data_dropper(input_data,key_list)"
   ]
  },
  {
   "cell_type": "code",
   "execution_count": 84,
   "metadata": {},
   "outputs": [],
   "source": [
    "input_data[\"Age_2\"] = pd.cut(input_data[\"Age\"],5)"
   ]
  },
  {
   "cell_type": "code",
   "execution_count": 85,
   "metadata": {},
   "outputs": [],
   "source": [
    "input_data[\"Age:30\"] = np.where((input_data[\"Age\"] <= 30),1,0)\n",
    "input_data[\"Age:30-42\"] = np.where((input_data[\"Age\"]>30) & (input_data[\"Age\"] <= 42),1,0)\n",
    "input_data[\"Age:42-52\"] = np.where((input_data[\"Age\"]>42) & (input_data[\"Age\"] <=52),1,0)\n",
    "input_data[\"Age:52-64\"] = np.where((input_data[\"Age\"]>52) & (input_data[\"Age\"] <= 64),1,0)\n",
    "input_data[\"Age:64\"] = np.where((input_data[\"Age\"] > 64),1,0)"
   ]
  },
  {
   "cell_type": "code",
   "execution_count": 86,
   "metadata": {},
   "outputs": [],
   "source": [
    "input_data[\"cr_amount\"] = pd.cut(input_data[\"Credit amount\"],10)"
   ]
  },
  {
   "cell_type": "code",
   "execution_count": 87,
   "metadata": {},
   "outputs": [],
   "source": [
    "input_data[\"cr_amount:2068\"] = np.where((input_data[\"Credit amount\"] <= 2068),1,0)\n",
    "input_data[\"cr_amount:2068-3885\"] = np.where((input_data[\"Credit amount\"] > 2068) & (input_data[\"Credit amount\"] <= 3885),1,0)\n",
    "input_data[\"cr_amount:3885-5703\"] = np.where((input_data[\"Credit amount\"] > 3885) & (input_data[\"Credit amount\"] <= 5703),1,0)\n",
    "input_data[\"cr_amount:5703-11155\"] = np.where((input_data[\"Credit amount\"] > 5703) & (input_data[\"Credit amount\"] <= 11155),1,0)\n",
    "input_data[\"cr_amount:11155\"] = np.where((input_data[\"Credit amount\"] > 11155),1,0)"
   ]
  },
  {
   "cell_type": "code",
   "execution_count": 88,
   "metadata": {},
   "outputs": [],
   "source": [
    "input_data[\"Duration:11\"] = np.where((input_data[\"Duration\"] <= 11),1,0)\n",
    "input_data[\"Duration:11-18\"] = np.where((input_data[\"Duration\"] >11) & (input_data[\"Duration\"] <= 18),1,0)\n",
    "input_data[\"Duration:18-31\"] = np.where((input_data[\"Duration\"] >18) & (input_data[\"Duration\"] <= 31),1,0)\n",
    "input_data[\"Duration:31-38\"] = np.where((input_data[\"Duration\"] >31) & (input_data[\"Duration\"] <= 38),1,0)\n",
    "input_data[\"Duration:38-45\"] = np.where((input_data[\"Duration\"] >38) & (input_data[\"Duration\"] <= 45),1,0)\n",
    "input_data[\"Duration:45-52\"] = np.where((input_data[\"Duration\"] >45) & (input_data[\"Duration\"] <= 52),1,0)\n",
    "input_data[\"Duration:52\"] = np.where((input_data[\"Duration\"] > 52),1,0)"
   ]
  },
  {
   "cell_type": "code",
   "execution_count": 89,
   "metadata": {},
   "outputs": [],
   "source": [
    "#We extract the extra columns from X_test data that we created for X_test."
   ]
  },
  {
   "cell_type": "code",
   "execution_count": 90,
   "metadata": {},
   "outputs": [],
   "source": [
    "key_list = [\"cr_amount\",\"Age_2\",\"Purpose\",\"Checking account\",\"Saving accounts\",\"Housing\",\"Job\",\"Age\",\n",
    "            \"Credit amount\",\"Duration\"]\n",
    "input_data = input_data_dropper(input_data,key_list)"
   ]
  },
  {
   "cell_type": "code",
   "execution_count": 91,
   "metadata": {},
   "outputs": [
    {
     "data": {
      "text/plain": [
       "(200, 38)"
      ]
     },
     "execution_count": 91,
     "metadata": {},
     "output_type": "execute_result"
    }
   ],
   "source": [
    "input_data.shape"
   ]
  },
  {
   "cell_type": "code",
   "execution_count": 92,
   "metadata": {},
   "outputs": [],
   "source": [
    "#In order not to fall into the dummy trap, we extract our reference variables from the data."
   ]
  },
  {
   "cell_type": "code",
   "execution_count": 93,
   "metadata": {},
   "outputs": [],
   "source": [
    "key_list = [\"Job:0\",\"Housing:own\",\"Saving accounts:no_inf\",\"Checking account:rich\",\"Purpose:car\",\"Age:64\",\n",
    "            \"Duration:11\",\"cr_amount:2068\"]\n",
    "input_data = input_data_dropper(input_data,key_list)"
   ]
  },
  {
   "cell_type": "code",
   "execution_count": 94,
   "metadata": {},
   "outputs": [],
   "source": [
    "X_test = input_data"
   ]
  },
  {
   "cell_type": "code",
   "execution_count": 95,
   "metadata": {},
   "outputs": [
    {
     "data": {
      "text/plain": [
       "(200, 30)"
      ]
     },
     "execution_count": 95,
     "metadata": {},
     "output_type": "execute_result"
    }
   ],
   "source": [
    "X_test.shape"
   ]
  },
  {
   "cell_type": "code",
   "execution_count": 96,
   "metadata": {},
   "outputs": [
    {
     "data": {
      "text/plain": [
       "(800, 30)"
      ]
     },
     "execution_count": 96,
     "metadata": {},
     "output_type": "execute_result"
    }
   ],
   "source": [
    "X_train.shape"
   ]
  },
  {
   "cell_type": "markdown",
   "metadata": {},
   "source": [
    "# Variable Selection"
   ]
  },
  {
   "cell_type": "markdown",
   "metadata": {},
   "source": [
    "Feature Selection is one of the core concepts in machine learning which hugely impacts the performance of your model. The data features that you use to train your machine learning models have a huge influence on the performance you can achieve.Irrelevant or partially relevant features can negatively impact model performance."
   ]
  },
  {
   "cell_type": "code",
   "execution_count": 97,
   "metadata": {},
   "outputs": [],
   "source": [
    "#First of all, I check whether it has constant feature."
   ]
  },
  {
   "cell_type": "code",
   "execution_count": 98,
   "metadata": {},
   "outputs": [
    {
     "data": {
      "text/plain": [
       "0"
      ]
     },
     "execution_count": 98,
     "metadata": {},
     "output_type": "execute_result"
    }
   ],
   "source": [
    "constant_features = [\n",
    "        feat for feat in X_train.columns if X_train[feat].std() == 0]\n",
    "len(constant_features)"
   ]
  },
  {
   "cell_type": "code",
   "execution_count": 99,
   "metadata": {},
   "outputs": [],
   "source": [
    "#I check for duplicate data."
   ]
  },
  {
   "cell_type": "code",
   "execution_count": 100,
   "metadata": {},
   "outputs": [
    {
     "data": {
      "text/plain": [
       "0"
      ]
     },
     "execution_count": 100,
     "metadata": {},
     "output_type": "execute_result"
    }
   ],
   "source": [
    "data_t = X_train.T\n",
    "data_t.head()\n",
    "data_t.duplicated().sum()"
   ]
  },
  {
   "cell_type": "code",
   "execution_count": 101,
   "metadata": {},
   "outputs": [],
   "source": [
    "#Before running the model, I will look at the correlation so that if there are variables in it, \n",
    "#I will extract them from the train and test data."
   ]
  },
  {
   "cell_type": "markdown",
   "metadata": {},
   "source": [
    "Correlation states how the features are related to each other or the target variable.Heatmap makes it easy to identify which features are most related to the target variable, we will plot heatmap of correlated features using the seaborn library."
   ]
  },
  {
   "cell_type": "code",
   "execution_count": 102,
   "metadata": {},
   "outputs": [
    {
     "data": {
      "text/plain": [
       "<matplotlib.axes._subplots.AxesSubplot at 0x2555cf01b08>"
      ]
     },
     "execution_count": 102,
     "metadata": {},
     "output_type": "execute_result"
    },
    {
     "data": {
      "image/png": "[encoded data removed]",
      "text/plain": [
       "<Figure size 792x792 with 2 Axes>"
      ]
     },
     "metadata": {
      "needs_background": "light"
     },
     "output_type": "display_data"
    }
   ],
   "source": [
    "corrmat = X_train.corr()\n",
    "fig, ax = plt.subplots()\n",
    "fig.set_size_inches(11,11)\n",
    "sns.heatmap(corrmat)"
   ]
  },
  {
   "cell_type": "code",
   "execution_count": 103,
   "metadata": {},
   "outputs": [
    {
     "data": {
      "text/plain": [
       "0"
      ]
     },
     "execution_count": 103,
     "metadata": {},
     "output_type": "execute_result"
    }
   ],
   "source": [
    "def correlation(dataset,threshold):\n",
    "    col_corr = set()\n",
    "    corr_matrix = dataset.corr()\n",
    "    for i in range(len(corr_matrix.columns)):\n",
    "        for j in range(i):\n",
    "            if abs(corr_matrix.iloc[i,j]) > threshold:\n",
    "                colname = corr_matrix.columns[i]\n",
    "                col_corr.add(colname)\n",
    "    return col_corr\n",
    "corr_features = correlation(X_train,0.8)\n",
    "len(set(corr_features))#In this way, we can reach variables that are correlated with each other."
   ]
  },
  {
   "cell_type": "markdown",
   "metadata": {},
   "source": [
    "Feature selection is an important pre-processing step for solving classification problems. A good feature selection method may not only improve the performance of the final classifier, but also reduce the computational complexity of it."
   ]
  },
  {
   "cell_type": "code",
   "execution_count": 104,
   "metadata": {},
   "outputs": [],
   "source": [
    "#We make variable elimination with the Roc-auc curve."
   ]
  },
  {
   "cell_type": "code",
   "execution_count": 105,
   "metadata": {},
   "outputs": [
    {
     "data": {
      "text/plain": [
       "Checking account:no_inf            0.700219\n",
       "Checking account:moderate          0.597742\n",
       "Age:30                             0.597499\n",
       "Checking account:little            0.596163\n",
       "Saving accounts:little_moderate    0.587907\n",
       "Age:30-42                          0.580015\n",
       "Housing:free_rent                  0.559373\n",
       "Sex                                0.550024\n",
       "Job:1                              0.547232\n",
       "cr_amount:5703-11155               0.545532\n",
       "Duration:31-38                     0.544318\n",
       "Purpose:radio/TV                   0.542861\n",
       "Saving accounts:rich               0.528169\n",
       "Duration:45-52                     0.527076\n",
       "cr_amount:11155                    0.523919\n",
       "Saving accounts:quite rich         0.523069\n",
       "Age:42-52                          0.520277\n",
       "Duration:11-18                     0.517363\n",
       "Duration:38-45                     0.515299\n",
       "cr_amount:2068-3885                0.508378\n",
       "Purpose:furniture/equipment        0.502914\n",
       "Purpose:dom_edu                    0.501214\n",
       "Age:52-64                          0.497693\n",
       "Purpose:vacation/others            0.496479\n",
       "Duration:52                        0.492958\n",
       "Purpose:bus_rep                    0.488708\n",
       "Job:3                              0.487980\n",
       "Duration:18-31                     0.486523\n",
       "cr_amount:3885-5703                0.484823\n",
       "Job:2                              0.442326\n",
       "dtype: float64"
      ]
     },
     "execution_count": 105,
     "metadata": {},
     "output_type": "execute_result"
    }
   ],
   "source": [
    "roc_values = []\n",
    "for feature in X_train.columns:\n",
    "    clf = LogisticRegression()\n",
    "    clf.fit(X_train[feature].fillna(0).to_frame(),y_train)\n",
    "    y_scored = clf.predict_proba(X_test[feature].fillna(0).to_frame())\n",
    "    roc_values.append(roc_auc_score(y_test,y_scored[:,1]))\n",
    "\n",
    "roc_values = pd.Series(roc_values)\n",
    "roc_values.index = X_train.columns\n",
    "roc_values.sort_values(ascending = False)\n",
    "\n"
   ]
  },
  {
   "cell_type": "code",
   "execution_count": 106,
   "metadata": {},
   "outputs": [
    {
     "data": {
      "text/plain": [
       "22"
      ]
     },
     "execution_count": 106,
     "metadata": {},
     "output_type": "execute_result"
    },
    {
     "data": {
      "image/png": "[encoded data removed]",
      "text/plain": [
       "<Figure size 1440x576 with 1 Axes>"
      ]
     },
     "metadata": {
      "needs_background": "light"
     },
     "output_type": "display_data"
    }
   ],
   "source": [
    "roc_values.sort_values(ascending = False).plot.bar(figsize = (20,8))\n",
    "len(roc_values[roc_values > 0.5])\n"
   ]
  },
  {
   "cell_type": "code",
   "execution_count": 107,
   "metadata": {},
   "outputs": [],
   "source": [
    "#We extract variables below 0.5 from our data."
   ]
  },
  {
   "cell_type": "code",
   "execution_count": 108,
   "metadata": {},
   "outputs": [],
   "source": [
    "key_list = [\"Age:52-64\",\"Purpose:vacation/others\",\"Duration:52\",\"Purpose:bus_rep\",\"Job:3\",\"Duration:18-31\",\n",
    "            \"cr_amount:3885-5703\",\"Job:2\"]\n",
    "X_train = input_data_dropper(X_train,key_list)\n",
    "X_test = input_data_dropper(X_test,key_list)"
   ]
  },
  {
   "cell_type": "code",
   "execution_count": 109,
   "metadata": {},
   "outputs": [],
   "source": [
    "#We extract our variables that are not significant comparing to p value, ie below 0.05. \n",
    "#However, if the part we need to pay attention is between 0.05 and all the dummies, we will eliminate variables.\n",
    "#Since there is no package that we can see p-value ready for Logistic Regression, we will run it with the class method."
   ]
  },
  {
   "cell_type": "code",
   "execution_count": 110,
   "metadata": {},
   "outputs": [
    {
     "data": {
      "text/html": [
       "<div>\n",
       "<style scoped>\n",
       "    .dataframe tbody tr th:only-of-type {\n",
       "        vertical-align: middle;\n",
       "    }\n",
       "\n",
       "    .dataframe tbody tr th {\n",
       "        vertical-align: top;\n",
       "    }\n",
       "\n",
       "    .dataframe thead th {\n",
       "        text-align: right;\n",
       "    }\n",
       "</style>\n",
       "<table border=\"1\" class=\"dataframe\">\n",
       "  <thead>\n",
       "    <tr style=\"text-align: right;\">\n",
       "      <th></th>\n",
       "      <th>variable_names</th>\n",
       "      <th>Coefficients</th>\n",
       "      <th>p_values</th>\n",
       "    </tr>\n",
       "  </thead>\n",
       "  <tbody>\n",
       "    <tr>\n",
       "      <td>0</td>\n",
       "      <td>Intercept</td>\n",
       "      <td>1.498888</td>\n",
       "      <td>NaN</td>\n",
       "    </tr>\n",
       "    <tr>\n",
       "      <td>1</td>\n",
       "      <td>Sex</td>\n",
       "      <td>0.218149</td>\n",
       "      <td>0.238345</td>\n",
       "    </tr>\n",
       "    <tr>\n",
       "      <td>2</td>\n",
       "      <td>Job:1</td>\n",
       "      <td>0.027716</td>\n",
       "      <td>0.898928</td>\n",
       "    </tr>\n",
       "    <tr>\n",
       "      <td>3</td>\n",
       "      <td>Saving accounts:quite rich</td>\n",
       "      <td>-0.324240</td>\n",
       "      <td>0.461863</td>\n",
       "    </tr>\n",
       "    <tr>\n",
       "      <td>4</td>\n",
       "      <td>Saving accounts:rich</td>\n",
       "      <td>0.168936</td>\n",
       "      <td>0.736910</td>\n",
       "    </tr>\n",
       "    <tr>\n",
       "      <td>5</td>\n",
       "      <td>Checking account:little</td>\n",
       "      <td>-0.988523</td>\n",
       "      <td>0.001047</td>\n",
       "    </tr>\n",
       "    <tr>\n",
       "      <td>6</td>\n",
       "      <td>Checking account:moderate</td>\n",
       "      <td>-0.464298</td>\n",
       "      <td>0.132904</td>\n",
       "    </tr>\n",
       "    <tr>\n",
       "      <td>7</td>\n",
       "      <td>Checking account:no_inf</td>\n",
       "      <td>0.798930</td>\n",
       "      <td>0.011209</td>\n",
       "    </tr>\n",
       "    <tr>\n",
       "      <td>8</td>\n",
       "      <td>Purpose:furniture/equipment</td>\n",
       "      <td>0.085980</td>\n",
       "      <td>0.722179</td>\n",
       "    </tr>\n",
       "    <tr>\n",
       "      <td>9</td>\n",
       "      <td>Purpose:radio/TV</td>\n",
       "      <td>0.341928</td>\n",
       "      <td>0.117062</td>\n",
       "    </tr>\n",
       "    <tr>\n",
       "      <td>10</td>\n",
       "      <td>Housing:free_rent</td>\n",
       "      <td>-0.387413</td>\n",
       "      <td>0.039862</td>\n",
       "    </tr>\n",
       "    <tr>\n",
       "      <td>11</td>\n",
       "      <td>Saving accounts:little_moderate</td>\n",
       "      <td>-0.659762</td>\n",
       "      <td>0.004819</td>\n",
       "    </tr>\n",
       "    <tr>\n",
       "      <td>12</td>\n",
       "      <td>Purpose:dom_edu</td>\n",
       "      <td>-0.190425</td>\n",
       "      <td>0.549319</td>\n",
       "    </tr>\n",
       "    <tr>\n",
       "      <td>13</td>\n",
       "      <td>Age:30</td>\n",
       "      <td>-0.229615</td>\n",
       "      <td>0.392280</td>\n",
       "    </tr>\n",
       "    <tr>\n",
       "      <td>14</td>\n",
       "      <td>Age:30-42</td>\n",
       "      <td>-0.127818</td>\n",
       "      <td>0.652333</td>\n",
       "    </tr>\n",
       "    <tr>\n",
       "      <td>15</td>\n",
       "      <td>Age:42-52</td>\n",
       "      <td>0.284614</td>\n",
       "      <td>0.408664</td>\n",
       "    </tr>\n",
       "    <tr>\n",
       "      <td>16</td>\n",
       "      <td>cr_amount:2068-3885</td>\n",
       "      <td>0.701437</td>\n",
       "      <td>0.001122</td>\n",
       "    </tr>\n",
       "    <tr>\n",
       "      <td>17</td>\n",
       "      <td>cr_amount:5703-11155</td>\n",
       "      <td>0.261563</td>\n",
       "      <td>0.355027</td>\n",
       "    </tr>\n",
       "    <tr>\n",
       "      <td>18</td>\n",
       "      <td>cr_amount:11155</td>\n",
       "      <td>-1.233412</td>\n",
       "      <td>0.024879</td>\n",
       "    </tr>\n",
       "    <tr>\n",
       "      <td>19</td>\n",
       "      <td>Duration:11-18</td>\n",
       "      <td>-0.049941</td>\n",
       "      <td>0.792816</td>\n",
       "    </tr>\n",
       "    <tr>\n",
       "      <td>20</td>\n",
       "      <td>Duration:31-38</td>\n",
       "      <td>-0.802179</td>\n",
       "      <td>0.011888</td>\n",
       "    </tr>\n",
       "    <tr>\n",
       "      <td>21</td>\n",
       "      <td>Duration:38-45</td>\n",
       "      <td>-0.210408</td>\n",
       "      <td>0.718862</td>\n",
       "    </tr>\n",
       "    <tr>\n",
       "      <td>22</td>\n",
       "      <td>Duration:45-52</td>\n",
       "      <td>-1.161084</td>\n",
       "      <td>0.007559</td>\n",
       "    </tr>\n",
       "  </tbody>\n",
       "</table>\n",
       "</div>"
      ],
      "text/plain": [
       "                     variable_names  Coefficients  p_values\n",
       "0                         Intercept      1.498888       NaN\n",
       "1                               Sex      0.218149  0.238345\n",
       "2                             Job:1      0.027716  0.898928\n",
       "3        Saving accounts:quite rich     -0.324240  0.461863\n",
       "4              Saving accounts:rich      0.168936  0.736910\n",
       "5           Checking account:little     -0.988523  0.001047\n",
       "6         Checking account:moderate     -0.464298  0.132904\n",
       "7           Checking account:no_inf      0.798930  0.011209\n",
       "8       Purpose:furniture/equipment      0.085980  0.722179\n",
       "9                  Purpose:radio/TV      0.341928  0.117062\n",
       "10                Housing:free_rent     -0.387413  0.039862\n",
       "11  Saving accounts:little_moderate     -0.659762  0.004819\n",
       "12                  Purpose:dom_edu     -0.190425  0.549319\n",
       "13                           Age:30     -0.229615  0.392280\n",
       "14                        Age:30-42     -0.127818  0.652333\n",
       "15                        Age:42-52      0.284614  0.408664\n",
       "16              cr_amount:2068-3885      0.701437  0.001122\n",
       "17             cr_amount:5703-11155      0.261563  0.355027\n",
       "18                  cr_amount:11155     -1.233412  0.024879\n",
       "19                   Duration:11-18     -0.049941  0.792816\n",
       "20                   Duration:31-38     -0.802179  0.011888\n",
       "21                   Duration:38-45     -0.210408  0.718862\n",
       "22                   Duration:45-52     -1.161084  0.007559"
      ]
     },
     "execution_count": 110,
     "metadata": {},
     "output_type": "execute_result"
    }
   ],
   "source": [
    "from sklearn import linear_model\n",
    "import scipy.stats as stat\n",
    "\n",
    "class LogisticRegression_with_p_values:\n",
    "    \n",
    "    def __init__(self,*args,**kwargs):#,**kwargs):\n",
    "        self.model = linear_model.LogisticRegression(*args,**kwargs)#,**args)\n",
    "\n",
    "    def fit(self,X,y):\n",
    "        self.model.fit(X,y)\n",
    "        \n",
    "        #### Get p-values for the fitted model ####\n",
    "        denom = (2.0 * (1.0 + np.cosh(self.model.decision_function(X))))\n",
    "        denom = np.tile(denom,(X.shape[1],1)).T\n",
    "        F_ij = np.dot((X / denom).T,X) ## Fisher Information Matrix\n",
    "        Cramer_Rao = np.linalg.inv(F_ij) ## Inverse Information Matrix\n",
    "        sigma_estimates = np.sqrt(np.diagonal(Cramer_Rao))\n",
    "        z_scores = self.model.coef_[0] / sigma_estimates # z-score for eaach model coefficient\n",
    "        p_values = [stat.norm.sf(abs(x)) * 2 for x in z_scores] ### two tailed test for p-values\n",
    "        \n",
    "        self.coef_ = self.model.coef_\n",
    "        self.intercept_ = self.model.intercept_\n",
    "        self.p_values = p_values\n",
    "        \n",
    "reg = LogisticRegression_with_p_values()\n",
    "reg.fit(X_train, y_train)\n",
    "\n",
    "variable_names = X_train.columns.values\n",
    "summary_table = pd.DataFrame(columns = [\"variable_names\"],data = variable_names)\n",
    "summary_table['Coefficients'] = np.transpose(reg.coef_)\n",
    "summary_table.index = summary_table.index + 1\n",
    "summary_table.loc[0] = ['Intercept', reg.intercept_[0]]\n",
    "summary_table = summary_table.sort_index()\n",
    "p_values = reg.p_values\n",
    "p_values = np.append(np.nan, np.array(p_values))\n",
    "summary_table['p_values'] = p_values\n",
    "summary_table\n"
   ]
  },
  {
   "cell_type": "code",
   "execution_count": 111,
   "metadata": {},
   "outputs": [],
   "source": [
    "#As a result of p_value; \n",
    "#Since it was observed that the variables, which are Sex, Age, Purpose and Job, are insignificant, we extract these values from the data."
   ]
  },
  {
   "cell_type": "code",
   "execution_count": 112,
   "metadata": {},
   "outputs": [],
   "source": [
    "key_list = [\"Sex\",\"Job:1\",\"Age:30\",\"Age:30-42\",\"Age:42-52\",\"Purpose:furniture/equipment\",\"Purpose:dom_edu\",\n",
    "            \"Purpose:radio/TV\"]\n",
    "X_train = input_data_dropper(X_train,key_list)"
   ]
  },
  {
   "cell_type": "code",
   "execution_count": 113,
   "metadata": {},
   "outputs": [],
   "source": [
    "#Let's do it for X_test too."
   ]
  },
  {
   "cell_type": "code",
   "execution_count": 114,
   "metadata": {},
   "outputs": [],
   "source": [
    "X_test = input_data_dropper(X_test,key_list)"
   ]
  },
  {
   "cell_type": "markdown",
   "metadata": {},
   "source": [
    "## Final Model"
   ]
  },
  {
   "cell_type": "code",
   "execution_count": 115,
   "metadata": {},
   "outputs": [],
   "source": [
    "from sklearn.metrics import confusion_matrix, accuracy_score, classification_report\n",
    "reg = LogisticRegression()\n",
    "reg.fit(X_train,y_train)\n",
    "y_pred = reg.predict(X_test)\n",
    "cm = confusion_matrix(y_test,y_pred)"
   ]
  },
  {
   "cell_type": "code",
   "execution_count": 116,
   "metadata": {},
   "outputs": [
    {
     "data": {
      "text/plain": [
       "0.725"
      ]
     },
     "execution_count": 116,
     "metadata": {},
     "output_type": "execute_result"
    }
   ],
   "source": [
    "reg.score(X_test,y_test)"
   ]
  },
  {
   "cell_type": "markdown",
   "metadata": {},
   "source": [
    "**KNN&Random Forest Results**"
   ]
  },
  {
   "cell_type": "code",
   "execution_count": 117,
   "metadata": {},
   "outputs": [],
   "source": [
    "#I will run the KNN and Random Forest algorithms to select the right model and select the model \n",
    "#according to the result of between Logistic, KNN and Random Forest"
   ]
  },
  {
   "cell_type": "code",
   "execution_count": 118,
   "metadata": {},
   "outputs": [],
   "source": [
    "from sklearn.neighbors import KNeighborsClassifier\n",
    "from sklearn.ensemble import RandomForestClassifier"
   ]
  },
  {
   "cell_type": "markdown",
   "metadata": {},
   "source": [
    "Random forests are one the most popular machine learning algorithms. They are so successful because they provide in general a good predictive performance, low overfitting and easy interpretability."
   ]
  },
  {
   "cell_type": "code",
   "execution_count": 119,
   "metadata": {},
   "outputs": [],
   "source": [
    "models = {\"KNN\" : KNeighborsClassifier(),\n",
    "         \"RandomForest\" : RandomForestClassifier()}"
   ]
  },
  {
   "cell_type": "code",
   "execution_count": 120,
   "metadata": {},
   "outputs": [],
   "source": [
    "def model_results(models,X_train,X_test,y_train,y_test):\n",
    "    np.random.seed(42)\n",
    "    for name,model in models.items():\n",
    "        model.fit(X_train,y_train)\n",
    "        model.predict(X_test)\n",
    "        print(name)\n",
    "        print(\"Acc_Score:\" + str(accuracy_score(y_test,model.predict(X_test))))\n",
    "        print(classification_report(y_test,model.predict(X_test)))"
   ]
  },
  {
   "cell_type": "code",
   "execution_count": 121,
   "metadata": {},
   "outputs": [
    {
     "name": "stdout",
     "output_type": "stream",
     "text": [
      "KNN\n",
      "Acc_Score:0.705\n",
      "              precision    recall  f1-score   support\n",
      "\n",
      "           0       0.49      0.47      0.48        58\n",
      "           1       0.79      0.80      0.79       142\n",
      "\n",
      "    accuracy                           0.70       200\n",
      "   macro avg       0.64      0.63      0.64       200\n",
      "weighted avg       0.70      0.70      0.70       200\n",
      "\n",
      "RandomForest\n",
      "Acc_Score:0.675\n",
      "              precision    recall  f1-score   support\n",
      "\n",
      "           0       0.45      0.52      0.48        58\n",
      "           1       0.79      0.74      0.76       142\n",
      "\n",
      "    accuracy                           0.68       200\n",
      "   macro avg       0.62      0.63      0.62       200\n",
      "weighted avg       0.69      0.68      0.68       200\n",
      "\n"
     ]
    }
   ],
   "source": [
    "model_results(models,X_train,X_test,y_train,y_test)"
   ]
  },
  {
   "cell_type": "markdown",
   "metadata": {},
   "source": [
    "**Confusion Matrix**"
   ]
  },
  {
   "cell_type": "markdown",
   "metadata": {},
   "source": [
    "In the field of machine learning and specifically the problem of statistical classification, a confusion matrix, also known as an error matrix. A confusion matrix is a table that is often used to describe the performance of a classification model (or “classifier”) on a set of test data for which the true values are known. It allows the visualization of the performance of an algorithm.It allows easy identification of confusion between classes. "
   ]
  },
  {
   "cell_type": "code",
   "execution_count": 122,
   "metadata": {},
   "outputs": [
    {
     "data": {
      "image/png": "[encoded data removed]",
      "text/plain": [
       "<Figure size 432x288 with 2 Axes>"
      ]
     },
     "metadata": {
      "needs_background": "light"
     },
     "output_type": "display_data"
    },
    {
     "data": {
      "image/png": "[encoded data removed]",
      "text/plain": [
       "<Figure size 432x288 with 2 Axes>"
      ]
     },
     "metadata": {
      "needs_background": "light"
     },
     "output_type": "display_data"
    },
    {
     "data": {
      "text/plain": [
       "<Figure size 432x288 with 0 Axes>"
      ]
     },
     "metadata": {},
     "output_type": "display_data"
    }
   ],
   "source": [
    "for name, model in models.items():\n",
    "    ax= plt.subplot()\n",
    "    plt.figure(figsize = (6,4))\n",
    "    sns.heatmap(confusion_matrix(y_test,model.predict(X_test)), annot=True, ax = ax,fmt = \"g\"); \n",
    "    ax.set_xlabel('Predicted labels');ax.set_ylabel('True labels'); \n",
    "    ax.set_title('Confusion Matrix:' + name); \n",
    "    ax.xaxis.set_ticklabels(['Good', 'Bad']); ax.yaxis.set_ticklabels(['Bad', 'Good']);\n",
    "    bottom, top = ax.get_ylim()\n",
    "    ax.set_ylim(bottom + 0.5, top-0.5)\n"
   ]
  },
  {
   "cell_type": "raw",
   "metadata": {},
   "source": []
  },
  {
   "cell_type": "markdown",
   "metadata": {},
   "source": [
    "**GridSearchCV & RandomizedSearchCV**"
   ]
  },
  {
   "cell_type": "markdown",
   "metadata": {},
   "source": [
    "When tuning the hyperparameters of an estimator, Grid Search and Random Search are both popular methods.\n",
    "Grid Search can be thought of as an exhaustive search for selecting a model. In Grid Search, the data scientist sets up a grid of hyperparameter values and for each combination, trains a model and scores on the testing data."
   ]
  },
  {
   "cell_type": "code",
   "execution_count": 123,
   "metadata": {},
   "outputs": [],
   "source": [
    "#Tuning Logistic Regression"
   ]
  },
  {
   "cell_type": "code",
   "execution_count": 124,
   "metadata": {},
   "outputs": [],
   "source": [
    "from sklearn.model_selection import RandomizedSearchCV"
   ]
  },
  {
   "cell_type": "code",
   "execution_count": 125,
   "metadata": {},
   "outputs": [],
   "source": [
    "log_reg_grid = {\"C\": np.logspace(-4,4,20), \n",
    "                \"solver\": [\"liblinear\"]}\n",
    "                \n",
    "rf_gri  = {\"n_estimators\": np.arange(10,1000,50),\n",
    "           \"max_depth\": [None, 3,5, 10],\n",
    "           \"min_samples_split\": np.arange(2,20,2),\n",
    "           \"min_samples_leaf\": np.arange(1,20,2)}"
   ]
  },
  {
   "cell_type": "code",
   "execution_count": 126,
   "metadata": {},
   "outputs": [],
   "source": [
    "rs_log_reg = RandomizedSearchCV(LogisticRegression(),\n",
    "                                param_distributions = log_reg_grid,\n",
    "                                cv = 5,\n",
    "                                n_iter = 20,\n",
    "                                verbose = True)"
   ]
  },
  {
   "cell_type": "code",
   "execution_count": 127,
   "metadata": {},
   "outputs": [],
   "source": [
    "#fitting to Logistic Regression"
   ]
  },
  {
   "cell_type": "code",
   "execution_count": 128,
   "metadata": {},
   "outputs": [
    {
     "name": "stdout",
     "output_type": "stream",
     "text": [
      "Fitting 5 folds for each of 20 candidates, totalling 100 fits\n"
     ]
    },
    {
     "name": "stderr",
     "output_type": "stream",
     "text": [
      "[Parallel(n_jobs=1)]: Using backend SequentialBackend with 1 concurrent workers.\n",
      "[Parallel(n_jobs=1)]: Done 100 out of 100 | elapsed:    0.5s finished\n"
     ]
    },
    {
     "data": {
      "text/plain": [
       "RandomizedSearchCV(cv=5, error_score='raise-deprecating',\n",
       "                   estimator=LogisticRegression(C=1.0, class_weight=None,\n",
       "                                                dual=False, fit_intercept=True,\n",
       "                                                intercept_scaling=1,\n",
       "                                                l1_ratio=None, max_iter=100,\n",
       "                                                multi_class='warn', n_jobs=None,\n",
       "                                                penalty='l2', random_state=None,\n",
       "                                                solver='warn', tol=0.0001,\n",
       "                                                verbose=0, warm_start=False),\n",
       "                   iid='warn', n_iter=20, n_jobs=None,\n",
       "                   param_distributi...\n",
       "       4.83293024e-03, 1.27427499e-02, 3.35981829e-02, 8.85866790e-02,\n",
       "       2.33572147e-01, 6.15848211e-01, 1.62377674e+00, 4.28133240e+00,\n",
       "       1.12883789e+01, 2.97635144e+01, 7.84759970e+01, 2.06913808e+02,\n",
       "       5.45559478e+02, 1.43844989e+03, 3.79269019e+03, 1.00000000e+04]),\n",
       "                                        'solver': ['liblinear']},\n",
       "                   pre_dispatch='2*n_jobs', random_state=None, refit=True,\n",
       "                   return_train_score=False, scoring=None, verbose=True)"
      ]
     },
     "execution_count": 128,
     "metadata": {},
     "output_type": "execute_result"
    }
   ],
   "source": [
    "rs_log_reg.fit(X_train,y_train)"
   ]
  },
  {
   "cell_type": "code",
   "execution_count": 129,
   "metadata": {},
   "outputs": [
    {
     "data": {
      "text/plain": [
       "{'solver': 'liblinear', 'C': 78.47599703514607}"
      ]
     },
     "execution_count": 129,
     "metadata": {},
     "output_type": "execute_result"
    }
   ],
   "source": [
    "rs_log_reg.best_params_"
   ]
  },
  {
   "cell_type": "code",
   "execution_count": 130,
   "metadata": {},
   "outputs": [
    {
     "data": {
      "text/plain": [
       "0.755"
      ]
     },
     "execution_count": 130,
     "metadata": {},
     "output_type": "execute_result"
    }
   ],
   "source": [
    "rs_log_reg.score(X_train,y_train)"
   ]
  },
  {
   "cell_type": "code",
   "execution_count": 131,
   "metadata": {},
   "outputs": [],
   "source": [
    "#Tuning Random Forest"
   ]
  },
  {
   "cell_type": "code",
   "execution_count": 132,
   "metadata": {},
   "outputs": [],
   "source": [
    "rs_rf = RandomizedSearchCV(RandomForestClassifier(),\n",
    "                           param_distributions=rf_gri,\n",
    "                           cv = 5,\n",
    "                           n_iter = 20,\n",
    "                           verbose = True,\n",
    "                           n_jobs = -1)"
   ]
  },
  {
   "cell_type": "code",
   "execution_count": 133,
   "metadata": {},
   "outputs": [],
   "source": [
    "#Fitting to RandomForestClassifier"
   ]
  },
  {
   "cell_type": "code",
   "execution_count": 134,
   "metadata": {},
   "outputs": [
    {
     "name": "stderr",
     "output_type": "stream",
     "text": [
      "[Parallel(n_jobs=-1)]: Using backend LokyBackend with 4 concurrent workers.\n"
     ]
    },
    {
     "name": "stdout",
     "output_type": "stream",
     "text": [
      "Fitting 5 folds for each of 20 candidates, totalling 100 fits\n"
     ]
    },
    {
     "name": "stderr",
     "output_type": "stream",
     "text": [
      "[Parallel(n_jobs=-1)]: Done  42 tasks      | elapsed:   31.6s\n",
      "[Parallel(n_jobs=-1)]: Done 100 out of 100 | elapsed:   50.2s finished\n"
     ]
    },
    {
     "data": {
      "text/plain": [
       "RandomizedSearchCV(cv=5, error_score='raise-deprecating',\n",
       "                   estimator=RandomForestClassifier(bootstrap=True,\n",
       "                                                    class_weight=None,\n",
       "                                                    criterion='gini',\n",
       "                                                    max_depth=None,\n",
       "                                                    max_features='auto',\n",
       "                                                    max_leaf_nodes=None,\n",
       "                                                    min_impurity_decrease=0.0,\n",
       "                                                    min_impurity_split=None,\n",
       "                                                    min_samples_leaf=1,\n",
       "                                                    min_samples_split=2,\n",
       "                                                    min_weight_fraction_leaf=0.0,\n",
       "                                                    n_estimators='warn',\n",
       "                                                    n_jobs=None,\n",
       "                                                    oob_sc...\n",
       "                   param_distributions={'max_depth': [None, 3, 5, 10],\n",
       "                                        'min_samples_leaf': array([ 1,  3,  5,  7,  9, 11, 13, 15, 17, 19]),\n",
       "                                        'min_samples_split': array([ 2,  4,  6,  8, 10, 12, 14, 16, 18]),\n",
       "                                        'n_estimators': array([ 10,  60, 110, 160, 210, 260, 310, 360, 410, 460, 510, 560, 610,\n",
       "       660, 710, 760, 810, 860, 910, 960])},\n",
       "                   pre_dispatch='2*n_jobs', random_state=None, refit=True,\n",
       "                   return_train_score=False, scoring=None, verbose=True)"
      ]
     },
     "execution_count": 134,
     "metadata": {},
     "output_type": "execute_result"
    }
   ],
   "source": [
    "rs_rf.fit(X_train,y_train)"
   ]
  },
  {
   "cell_type": "code",
   "execution_count": 135,
   "metadata": {},
   "outputs": [
    {
     "data": {
      "text/plain": [
       "0.72"
      ]
     },
     "execution_count": 135,
     "metadata": {},
     "output_type": "execute_result"
    }
   ],
   "source": [
    "rs_rf.score(X_test,y_test)"
   ]
  },
  {
   "cell_type": "code",
   "execution_count": 136,
   "metadata": {},
   "outputs": [],
   "source": [
    "#Since the logistic regression model works best, we will try to improve the model using GridSearchCV."
   ]
  },
  {
   "cell_type": "code",
   "execution_count": 137,
   "metadata": {},
   "outputs": [],
   "source": [
    "log_reg_grid = {\"C\": np.logspace(-4,4,30),\n",
    "                \"solver\": [\"liblinear\"]}"
   ]
  },
  {
   "cell_type": "code",
   "execution_count": 138,
   "metadata": {},
   "outputs": [],
   "source": [
    "from sklearn.model_selection import GridSearchCV"
   ]
  },
  {
   "cell_type": "code",
   "execution_count": 139,
   "metadata": {},
   "outputs": [],
   "source": [
    "gs_log_reg = GridSearchCV(LogisticRegression(),\n",
    "                          param_grid = log_reg_grid,\n",
    "                          cv = 5,\n",
    "                          n_jobs = -1,\n",
    "                          verbose = True)"
   ]
  },
  {
   "cell_type": "code",
   "execution_count": 140,
   "metadata": {},
   "outputs": [
    {
     "name": "stdout",
     "output_type": "stream",
     "text": [
      "Fitting 5 folds for each of 30 candidates, totalling 150 fits\n"
     ]
    },
    {
     "name": "stderr",
     "output_type": "stream",
     "text": [
      "[Parallel(n_jobs=-1)]: Using backend LokyBackend with 4 concurrent workers.\n",
      "[Parallel(n_jobs=-1)]: Done 150 out of 150 | elapsed:    0.6s finished\n"
     ]
    },
    {
     "data": {
      "text/plain": [
       "GridSearchCV(cv=5, error_score='raise-deprecating',\n",
       "             estimator=LogisticRegression(C=1.0, class_weight=None, dual=False,\n",
       "                                          fit_intercept=True,\n",
       "                                          intercept_scaling=1, l1_ratio=None,\n",
       "                                          max_iter=100, multi_class='warn',\n",
       "                                          n_jobs=None, penalty='l2',\n",
       "                                          random_state=None, solver='warn',\n",
       "                                          tol=0.0001, verbose=0,\n",
       "                                          warm_start=False),\n",
       "             iid='warn', n_jobs=-1,\n",
       "             param_grid={'C': array([1.00000000e...\n",
       "       2.04335972e-01, 3.85662042e-01, 7.27895384e-01, 1.37382380e+00,\n",
       "       2.59294380e+00, 4.89390092e+00, 9.23670857e+00, 1.74332882e+01,\n",
       "       3.29034456e+01, 6.21016942e+01, 1.17210230e+02, 2.21221629e+02,\n",
       "       4.17531894e+02, 7.88046282e+02, 1.48735211e+03, 2.80721620e+03,\n",
       "       5.29831691e+03, 1.00000000e+04]),\n",
       "                         'solver': ['liblinear']},\n",
       "             pre_dispatch='2*n_jobs', refit=True, return_train_score=False,\n",
       "             scoring=None, verbose=True)"
      ]
     },
     "execution_count": 140,
     "metadata": {},
     "output_type": "execute_result"
    }
   ],
   "source": [
    "gs_log_reg.fit(X_train,y_train)"
   ]
  },
  {
   "cell_type": "code",
   "execution_count": 141,
   "metadata": {},
   "outputs": [
    {
     "data": {
      "text/plain": [
       "{'C': 62.10169418915616, 'solver': 'liblinear'}"
      ]
     },
     "execution_count": 141,
     "metadata": {},
     "output_type": "execute_result"
    }
   ],
   "source": [
    "gs_log_reg.best_params_"
   ]
  },
  {
   "cell_type": "code",
   "execution_count": 142,
   "metadata": {},
   "outputs": [
    {
     "data": {
      "text/plain": [
       "0.715"
      ]
     },
     "execution_count": 142,
     "metadata": {},
     "output_type": "execute_result"
    }
   ],
   "source": [
    "gs_log_reg.score(X_test,y_test)"
   ]
  },
  {
   "cell_type": "code",
   "execution_count": 143,
   "metadata": {},
   "outputs": [],
   "source": [
    "Log = LogisticRegression(C = 78.47599703514607, solver = \"liblinear\")"
   ]
  },
  {
   "cell_type": "code",
   "execution_count": 144,
   "metadata": {},
   "outputs": [
    {
     "data": {
      "text/plain": [
       "LogisticRegression(C=78.47599703514607, class_weight=None, dual=False,\n",
       "                   fit_intercept=True, intercept_scaling=1, l1_ratio=None,\n",
       "                   max_iter=100, multi_class='warn', n_jobs=None, penalty='l2',\n",
       "                   random_state=None, solver='liblinear', tol=0.0001, verbose=0,\n",
       "                   warm_start=False)"
      ]
     },
     "execution_count": 144,
     "metadata": {},
     "output_type": "execute_result"
    }
   ],
   "source": [
    "Log.fit(X_train,y_train)"
   ]
  },
  {
   "cell_type": "code",
   "execution_count": 145,
   "metadata": {},
   "outputs": [
    {
     "data": {
      "text/plain": [
       "0.715"
      ]
     },
     "execution_count": 145,
     "metadata": {},
     "output_type": "execute_result"
    }
   ],
   "source": [
    "Log.score(X_test,y_test)"
   ]
  },
  {
   "cell_type": "code",
   "execution_count": 146,
   "metadata": {},
   "outputs": [],
   "source": [
    "#When we compare model results for Logistic Regression with GridSearchCV, we prefer the first model since we observed \n",
    "#that the parameters of the first model we ran were more successful."
   ]
  },
  {
   "cell_type": "markdown",
   "metadata": {},
   "source": [
    "# Evaluating#"
   ]
  },
  {
   "cell_type": "code",
   "execution_count": 147,
   "metadata": {},
   "outputs": [
    {
     "data": {
      "text/plain": [
       "0.725"
      ]
     },
     "execution_count": 147,
     "metadata": {},
     "output_type": "execute_result"
    }
   ],
   "source": [
    "accuracy_score(y_test,y_pred)"
   ]
  },
  {
   "cell_type": "code",
   "execution_count": 148,
   "metadata": {},
   "outputs": [],
   "source": [
    "from sklearn.model_selection import cross_val_score"
   ]
  },
  {
   "cell_type": "code",
   "execution_count": 149,
   "metadata": {},
   "outputs": [
    {
     "name": "stdout",
     "output_type": "stream",
     "text": [
      "              precision    recall  f1-score   support\n",
      "\n",
      "           0       0.53      0.40      0.46        58\n",
      "           1       0.78      0.86      0.82       142\n",
      "\n",
      "    accuracy                           0.73       200\n",
      "   macro avg       0.66      0.63      0.64       200\n",
      "weighted avg       0.71      0.72      0.71       200\n",
      "\n"
     ]
    }
   ],
   "source": [
    "print(classification_report(y_test,y_pred))"
   ]
  },
  {
   "cell_type": "code",
   "execution_count": 150,
   "metadata": {},
   "outputs": [],
   "source": [
    "#Let's test the model performance with the Roc-auc curve and gini."
   ]
  },
  {
   "cell_type": "markdown",
   "metadata": {},
   "source": [
    "An ROC curve (receiver operating characteristic curve) is a graph showing the performance of a classification model at all classification thresholds. This curve plots two parameters:\n",
    "\n",
    "True Positive Rate(tpr),\n",
    "False Positive Rate(fpr)"
   ]
  },
  {
   "cell_type": "code",
   "execution_count": 151,
   "metadata": {},
   "outputs": [],
   "source": [
    "y_pred_proba = reg.predict_proba(X_test)\n",
    "y_pred_proba_good = y_pred_proba[:,1]\n",
    "y_pred_proba_bad = y_pred_proba[:,0]\n",
    "y_test_2 = y_test\n",
    "y_test_2.reset_index(drop = True, inplace = True)\n",
    "actual_pred_probs = pd.concat([y_test_2,pd.DataFrame(y_pred_proba_good)],axis = 1)\n",
    "actual_pred_probs.columns = [\"y_test\",\"y_test_proba\"]\n",
    "actual_pred_probs.index = X_test.index\n",
    "actual_pred_probs = actual_pred_probs.sort_values(\"y_test_proba\")\n",
    "actual_pred_probs = actual_pred_probs.reset_index()\n"
   ]
  },
  {
   "cell_type": "code",
   "execution_count": 152,
   "metadata": {},
   "outputs": [
    {
     "data": {
      "text/plain": [
       "Text(0.5, 1.0, 'ROC_Curve')"
      ]
     },
     "execution_count": 152,
     "metadata": {},
     "output_type": "execute_result"
    },
    {
     "data": {
      "image/png": "[encoded data removed]",
      "text/plain": [
       "<Figure size 432x288 with 1 Axes>"
      ]
     },
     "metadata": {
      "needs_background": "light"
     },
     "output_type": "display_data"
    }
   ],
   "source": [
    "from sklearn.metrics import roc_curve\n",
    "fpr, tpr, thresholds = roc_curve(y_test,y_pred_proba_good)\n",
    "plt.plot(fpr,tpr)\n",
    "plt.plot(fpr,fpr,linestyle = \"--\",color = \"k\")\n",
    "plt.xlabel(\"fpr\")\n",
    "plt.ylabel(\"tpr\")\n",
    "plt.title(\"ROC_Curve\")\n"
   ]
  },
  {
   "cell_type": "code",
   "execution_count": 153,
   "metadata": {},
   "outputs": [],
   "source": [
    "AUROC = roc_auc_score(y_test,y_pred_proba_good)"
   ]
  },
  {
   "cell_type": "markdown",
   "metadata": {},
   "source": [
    "if AUROC;\n",
    "btw 50% and 60% == BAD\n",
    "btw 60% and 70% == POOR\n",
    "btw 70% and 80% == FAIR\n",
    "btw 80% and 90% == GOOD\n",
    "btw 90% and 100% == EXCELLENT"
   ]
  },
  {
   "cell_type": "code",
   "execution_count": 154,
   "metadata": {},
   "outputs": [
    {
     "data": {
      "text/plain": [
       "0.7532782904322487"
      ]
     },
     "execution_count": 154,
     "metadata": {},
     "output_type": "execute_result"
    }
   ],
   "source": [
    "AUROC"
   ]
  },
  {
   "cell_type": "code",
   "execution_count": 155,
   "metadata": {},
   "outputs": [],
   "source": [
    "#Gini"
   ]
  },
  {
   "cell_type": "code",
   "execution_count": 156,
   "metadata": {},
   "outputs": [
    {
     "data": {
      "text/plain": [
       "0.5065565808644974"
      ]
     },
     "execution_count": 156,
     "metadata": {},
     "output_type": "execute_result"
    }
   ],
   "source": [
    "Gini = AUROC*2-1\n",
    "Gini"
   ]
  },
  {
   "cell_type": "code",
   "execution_count": 157,
   "metadata": {},
   "outputs": [],
   "source": [
    "feature_dict = dict(zip(X_test.columns, list(reg.coef_[0])))"
   ]
  },
  {
   "cell_type": "code",
   "execution_count": 164,
   "metadata": {},
   "outputs": [
    {
     "data": {
      "text/plain": [
       "(200,)"
      ]
     },
     "execution_count": 164,
     "metadata": {},
     "output_type": "execute_result"
    }
   ],
   "source": [
    "probabilities_of_good.shape"
   ]
  },
  {
   "cell_type": "code",
   "execution_count": 163,
   "metadata": {},
   "outputs": [],
   "source": [
    "probabilities_of_good = y_pred_proba[:,1]"
   ]
  },
  {
   "cell_type": "code",
   "execution_count": 165,
   "metadata": {},
   "outputs": [],
   "source": [
    "Rating = []\n",
    "for prob in probabilities_of_good:\n",
    "    if prob >= 0.80:\n",
    "        Rating.append(\"A\")\n",
    "    elif prob >= 0.60:\n",
    "        Rating.append(\"B\")\n",
    "    elif prob >= 0.40:\n",
    "        Rating.append(\"C\")\n",
    "    elif prob >= 0.20:\n",
    "        Rating.append(\"D\")\n",
    "    else:\n",
    "        Rating.append(\"E\")"
   ]
  },
  {
   "cell_type": "code",
   "execution_count": 166,
   "metadata": {},
   "outputs": [
    {
     "data": {
      "text/plain": [
       "['D',\n",
       " 'A',\n",
       " 'A',\n",
       " 'B',\n",
       " 'A',\n",
       " 'A',\n",
       " 'B',\n",
       " 'A',\n",
       " 'A',\n",
       " 'C',\n",
       " 'D',\n",
       " 'B',\n",
       " 'A',\n",
       " 'B',\n",
       " 'C',\n",
       " 'A',\n",
       " 'B',\n",
       " 'A',\n",
       " 'D',\n",
       " 'B',\n",
       " 'C',\n",
       " 'B',\n",
       " 'D',\n",
       " 'A',\n",
       " 'A',\n",
       " 'D',\n",
       " 'A',\n",
       " 'C',\n",
       " 'A',\n",
       " 'C',\n",
       " 'C',\n",
       " 'A',\n",
       " 'A',\n",
       " 'B',\n",
       " 'A',\n",
       " 'D',\n",
       " 'B',\n",
       " 'A',\n",
       " 'B',\n",
       " 'A',\n",
       " 'C',\n",
       " 'B',\n",
       " 'A',\n",
       " 'A',\n",
       " 'A',\n",
       " 'B',\n",
       " 'C',\n",
       " 'C',\n",
       " 'C',\n",
       " 'C',\n",
       " 'A',\n",
       " 'C',\n",
       " 'D',\n",
       " 'D',\n",
       " 'B',\n",
       " 'B',\n",
       " 'E',\n",
       " 'A',\n",
       " 'A',\n",
       " 'B',\n",
       " 'D',\n",
       " 'A',\n",
       " 'B',\n",
       " 'A',\n",
       " 'A',\n",
       " 'A',\n",
       " 'A',\n",
       " 'B',\n",
       " 'B',\n",
       " 'B',\n",
       " 'A',\n",
       " 'A',\n",
       " 'B',\n",
       " 'B',\n",
       " 'D',\n",
       " 'A',\n",
       " 'A',\n",
       " 'C',\n",
       " 'B',\n",
       " 'A',\n",
       " 'C',\n",
       " 'D',\n",
       " 'A',\n",
       " 'A',\n",
       " 'A',\n",
       " 'B',\n",
       " 'C',\n",
       " 'D',\n",
       " 'A',\n",
       " 'B',\n",
       " 'A',\n",
       " 'C',\n",
       " 'C',\n",
       " 'B',\n",
       " 'A',\n",
       " 'B',\n",
       " 'C',\n",
       " 'B',\n",
       " 'C',\n",
       " 'C',\n",
       " 'B',\n",
       " 'A',\n",
       " 'A',\n",
       " 'A',\n",
       " 'B',\n",
       " 'A',\n",
       " 'A',\n",
       " 'C',\n",
       " 'C',\n",
       " 'A',\n",
       " 'B',\n",
       " 'C',\n",
       " 'D',\n",
       " 'A',\n",
       " 'A',\n",
       " 'A',\n",
       " 'D',\n",
       " 'A',\n",
       " 'A',\n",
       " 'C',\n",
       " 'B',\n",
       " 'A',\n",
       " 'B',\n",
       " 'B',\n",
       " 'B',\n",
       " 'A',\n",
       " 'A',\n",
       " 'A',\n",
       " 'A',\n",
       " 'A',\n",
       " 'B',\n",
       " 'B',\n",
       " 'D',\n",
       " 'C',\n",
       " 'A',\n",
       " 'C',\n",
       " 'A',\n",
       " 'A',\n",
       " 'C',\n",
       " 'D',\n",
       " 'C',\n",
       " 'D',\n",
       " 'B',\n",
       " 'B',\n",
       " 'A',\n",
       " 'A',\n",
       " 'A',\n",
       " 'D',\n",
       " 'C',\n",
       " 'B',\n",
       " 'A',\n",
       " 'B',\n",
       " 'A',\n",
       " 'B',\n",
       " 'A',\n",
       " 'A',\n",
       " 'C',\n",
       " 'A',\n",
       " 'A',\n",
       " 'A',\n",
       " 'B',\n",
       " 'B',\n",
       " 'A',\n",
       " 'A',\n",
       " 'D',\n",
       " 'E',\n",
       " 'B',\n",
       " 'A',\n",
       " 'B',\n",
       " 'A',\n",
       " 'C',\n",
       " 'A',\n",
       " 'C',\n",
       " 'D',\n",
       " 'A',\n",
       " 'C',\n",
       " 'B',\n",
       " 'B',\n",
       " 'A',\n",
       " 'A',\n",
       " 'A',\n",
       " 'B',\n",
       " 'A',\n",
       " 'C',\n",
       " 'B',\n",
       " 'D',\n",
       " 'B',\n",
       " 'C',\n",
       " 'A',\n",
       " 'A',\n",
       " 'A',\n",
       " 'E',\n",
       " 'B',\n",
       " 'A',\n",
       " 'A',\n",
       " 'A',\n",
       " 'C',\n",
       " 'B',\n",
       " 'C',\n",
       " 'B']"
      ]
     },
     "execution_count": 166,
     "metadata": {},
     "output_type": "execute_result"
    }
   ],
   "source": [
    "Rating"
   ]
  },
  {
   "cell_type": "code",
   "execution_count": 168,
   "metadata": {},
   "outputs": [
    {
     "data": {
      "text/plain": [
       "200"
      ]
     },
     "execution_count": 168,
     "metadata": {},
     "output_type": "execute_result"
    }
   ],
   "source": [
    "len(Rating)"
   ]
  },
  {
   "cell_type": "code",
   "execution_count": 169,
   "metadata": {},
   "outputs": [
    {
     "data": {
      "text/plain": [
       "86"
      ]
     },
     "execution_count": 169,
     "metadata": {},
     "output_type": "execute_result"
    }
   ],
   "source": [
    "Rating.count(\"A\")"
   ]
  },
  {
   "cell_type": "code",
   "execution_count": 177,
   "metadata": {},
   "outputs": [],
   "source": [
    "RatingScore = [\"A\",\"B\",\"C\",\"D\",\"E\"]\n",
    "RatingName = []\n",
    "Density = []\n",
    "for i in RatingScore:\n",
    "    RatingName.append(i)\n",
    "    Density.append(((Rating.count(i)/len(Rating))**2))\n",
    "    \n",
    "Rating_Density = pd.DataFrame({\"RatingScore\":RatingName,\"Density\":Density})\n"
   ]
  },
  {
   "cell_type": "code",
   "execution_count": 179,
   "metadata": {},
   "outputs": [
    {
     "data": {
      "text/html": [
       "<div>\n",
       "<style scoped>\n",
       "    .dataframe tbody tr th:only-of-type {\n",
       "        vertical-align: middle;\n",
       "    }\n",
       "\n",
       "    .dataframe tbody tr th {\n",
       "        vertical-align: top;\n",
       "    }\n",
       "\n",
       "    .dataframe thead th {\n",
       "        text-align: right;\n",
       "    }\n",
       "</style>\n",
       "<table border=\"1\" class=\"dataframe\">\n",
       "  <thead>\n",
       "    <tr style=\"text-align: right;\">\n",
       "      <th></th>\n",
       "      <th>RatingScore</th>\n",
       "      <th>Density</th>\n",
       "    </tr>\n",
       "  </thead>\n",
       "  <tbody>\n",
       "    <tr>\n",
       "      <td>0</td>\n",
       "      <td>A</td>\n",
       "      <td>0.184900</td>\n",
       "    </tr>\n",
       "    <tr>\n",
       "      <td>1</td>\n",
       "      <td>B</td>\n",
       "      <td>0.070225</td>\n",
       "    </tr>\n",
       "    <tr>\n",
       "      <td>2</td>\n",
       "      <td>C</td>\n",
       "      <td>0.034225</td>\n",
       "    </tr>\n",
       "    <tr>\n",
       "      <td>3</td>\n",
       "      <td>D</td>\n",
       "      <td>0.011025</td>\n",
       "    </tr>\n",
       "    <tr>\n",
       "      <td>4</td>\n",
       "      <td>E</td>\n",
       "      <td>0.000225</td>\n",
       "    </tr>\n",
       "  </tbody>\n",
       "</table>\n",
       "</div>"
      ],
      "text/plain": [
       "  RatingScore   Density\n",
       "0           A  0.184900\n",
       "1           B  0.070225\n",
       "2           C  0.034225\n",
       "3           D  0.011025\n",
       "4           E  0.000225"
      ]
     },
     "execution_count": 179,
     "metadata": {},
     "output_type": "execute_result"
    }
   ],
   "source": [
    "Rating_Density"
   ]
  },
  {
   "cell_type": "code",
   "execution_count": 181,
   "metadata": {},
   "outputs": [],
   "source": [
    "HHI = sum(Density)"
   ]
  },
  {
   "cell_type": "code",
   "execution_count": 182,
   "metadata": {},
   "outputs": [
    {
     "data": {
      "text/plain": [
       "0.3006"
      ]
     },
     "execution_count": 182,
     "metadata": {},
     "output_type": "execute_result"
    }
   ],
   "source": [
    "HHI"
   ]
  },
  {
   "cell_type": "code",
   "execution_count": 183,
   "metadata": {},
   "outputs": [
    {
     "data": {
      "text/plain": [
       "array([0, 1, 1, 1, 1, 1, 1, 1, 1, 0, 0, 1, 1, 1, 1, 1, 1, 1, 0, 1, 1, 1,\n",
       "       0, 1, 1, 0, 1, 1, 1, 0, 1, 1, 1, 1, 1, 0, 1, 1, 1, 1, 1, 1, 1, 1,\n",
       "       1, 1, 0, 0, 0, 0, 1, 0, 0, 0, 1, 1, 0, 1, 1, 1, 0, 1, 1, 1, 1, 1,\n",
       "       1, 1, 1, 1, 1, 1, 1, 1, 0, 1, 1, 1, 1, 1, 1, 0, 1, 1, 1, 1, 0, 0,\n",
       "       1, 1, 1, 1, 0, 1, 1, 1, 0, 1, 1, 0, 1, 1, 1, 1, 1, 1, 1, 1, 1, 1,\n",
       "       1, 0, 0, 1, 1, 1, 0, 1, 1, 0, 1, 1, 1, 1, 1, 1, 1, 1, 1, 1, 1, 1,\n",
       "       0, 1, 1, 1, 1, 1, 1, 0, 0, 0, 1, 1, 1, 1, 1, 0, 0, 1, 1, 1, 1, 1,\n",
       "       1, 1, 1, 1, 1, 1, 1, 1, 1, 1, 0, 0, 1, 1, 1, 1, 1, 1, 1, 0, 1, 0,\n",
       "       1, 1, 1, 1, 1, 1, 1, 0, 1, 0, 1, 1, 1, 1, 1, 0, 1, 1, 1, 1, 0, 1,\n",
       "       0, 1])"
      ]
     },
     "execution_count": 183,
     "metadata": {},
     "output_type": "execute_result"
    }
   ],
   "source": [
    "y_pred"
   ]
  },
  {
   "cell_type": "code",
   "execution_count": 188,
   "metadata": {},
   "outputs": [
    {
     "data": {
      "text/plain": [
       "array([0.70017358, 0.11131993, 0.07729617, 0.38757215, 0.1111287 ,\n",
       "       0.1111287 , 0.22106539, 0.07776952, 0.12047787, 0.59351795,\n",
       "       0.63292683, 0.32339508, 0.19527338, 0.32339508, 0.40583243,\n",
       "       0.07930064, 0.20213698, 0.06214983, 0.62518061, 0.37304663,\n",
       "       0.49649557, 0.37304663, 0.615355  , 0.13978116, 0.14735871,\n",
       "       0.69899197, 0.13978116, 0.48620497, 0.08391939, 0.59351795,\n",
       "       0.49649557, 0.10422047, 0.14735871, 0.37304663, 0.05035357,\n",
       "       0.76510062, 0.37304663, 0.07729617, 0.32339508, 0.13978116,\n",
       "       0.45701828, 0.32339508, 0.14735871, 0.14735871, 0.15485094,\n",
       "       0.38757215, 0.51190317, 0.58491271, 0.51190317, 0.51190317,\n",
       "       0.14735871, 0.59351795, 0.62518061, 0.61062894, 0.32339508,\n",
       "       0.20535846, 0.8463067 , 0.04251543, 0.14735871, 0.33702657,\n",
       "       0.70758392, 0.13978116, 0.32339508, 0.13978116, 0.14819222,\n",
       "       0.13978116, 0.13978116, 0.32788879, 0.22385105, 0.23474236,\n",
       "       0.1111287 , 0.11983943, 0.32339508, 0.20535846, 0.62518061,\n",
       "       0.07729617, 0.13978116, 0.40484032, 0.37304663, 0.0730129 ,\n",
       "       0.49649557, 0.61062894, 0.12716367, 0.14695453, 0.13260241,\n",
       "       0.34326079, 0.5205127 , 0.78786422, 0.13978116, 0.33702657,\n",
       "       0.07729617, 0.44704966, 0.50161137, 0.20535846, 0.14735871,\n",
       "       0.37304663, 0.50147597, 0.28680521, 0.44704966, 0.51190317,\n",
       "       0.23003437, 0.08391939, 0.07930064, 0.19973924, 0.23976883,\n",
       "       0.09860467, 0.11983943, 0.45871997, 0.49649557, 0.08997505,\n",
       "       0.23474236, 0.5206766 , 0.61062894, 0.0730129 , 0.19527338,\n",
       "       0.07729617, 0.61062894, 0.12047787, 0.11131993, 0.50161137,\n",
       "       0.39927356, 0.13978116, 0.21559996, 0.33850698, 0.37304663,\n",
       "       0.07729617, 0.11131993, 0.08391939, 0.06214983, 0.14735871,\n",
       "       0.20213698, 0.32339508, 0.61062894, 0.49649557, 0.1111287 ,\n",
       "       0.44704966, 0.14695453, 0.03804302, 0.49649557, 0.62518061,\n",
       "       0.5206766 , 0.77590293, 0.20535846, 0.21559996, 0.13978116,\n",
       "       0.13985407, 0.13978116, 0.78440536, 0.5206766 , 0.27431177,\n",
       "       0.15614296, 0.23003437, 0.14735871, 0.24164917, 0.19306575,\n",
       "       0.04251543, 0.44704966, 0.15485094, 0.05573221, 0.07543464,\n",
       "       0.38757215, 0.23397981, 0.0730129 , 0.11131993, 0.79374568,\n",
       "       0.88523765, 0.37304663, 0.07930064, 0.37304663, 0.05035357,\n",
       "       0.49570288, 0.11131993, 0.47913403, 0.62518061, 0.13978116,\n",
       "       0.51190317, 0.34326079, 0.36111681, 0.13260241, 0.0730129 ,\n",
       "       0.06226269, 0.39927356, 0.1744818 , 0.53094285, 0.37304663,\n",
       "       0.61062894, 0.21559996, 0.49649557, 0.0730129 , 0.14735871,\n",
       "       0.15485094, 0.85774392, 0.25118397, 0.19973924, 0.14735871,\n",
       "       0.14735871, 0.51190317, 0.23976883, 0.52019376, 0.20535846])"
      ]
     },
     "execution_count": 188,
     "metadata": {},
     "output_type": "execute_result"
    }
   ],
   "source": [
    "y_pred_proba[:,0]"
   ]
  },
  {
   "cell_type": "code",
   "execution_count": 189,
   "metadata": {},
   "outputs": [],
   "source": [
    "PD = y_pred_proba[:,0]"
   ]
  },
  {
   "cell_type": "code",
   "execution_count": 213,
   "metadata": {},
   "outputs": [],
   "source": [
    "Score_model = pd.DataFrame({\"PD\":PD,\"Default_Flag\":y_pred,\"Score\":Rating})"
   ]
  },
  {
   "cell_type": "code",
   "execution_count": 214,
   "metadata": {},
   "outputs": [
    {
     "data": {
      "text/html": [
       "<div>\n",
       "<style scoped>\n",
       "    .dataframe tbody tr th:only-of-type {\n",
       "        vertical-align: middle;\n",
       "    }\n",
       "\n",
       "    .dataframe tbody tr th {\n",
       "        vertical-align: top;\n",
       "    }\n",
       "\n",
       "    .dataframe thead th {\n",
       "        text-align: right;\n",
       "    }\n",
       "</style>\n",
       "<table border=\"1\" class=\"dataframe\">\n",
       "  <thead>\n",
       "    <tr style=\"text-align: right;\">\n",
       "      <th></th>\n",
       "      <th>PD</th>\n",
       "      <th>Default_Flag</th>\n",
       "      <th>Score</th>\n",
       "    </tr>\n",
       "  </thead>\n",
       "  <tbody>\n",
       "    <tr>\n",
       "      <td>0</td>\n",
       "      <td>0.700174</td>\n",
       "      <td>0</td>\n",
       "      <td>D</td>\n",
       "    </tr>\n",
       "    <tr>\n",
       "      <td>1</td>\n",
       "      <td>0.111320</td>\n",
       "      <td>1</td>\n",
       "      <td>A</td>\n",
       "    </tr>\n",
       "    <tr>\n",
       "      <td>2</td>\n",
       "      <td>0.077296</td>\n",
       "      <td>1</td>\n",
       "      <td>A</td>\n",
       "    </tr>\n",
       "    <tr>\n",
       "      <td>3</td>\n",
       "      <td>0.387572</td>\n",
       "      <td>1</td>\n",
       "      <td>B</td>\n",
       "    </tr>\n",
       "    <tr>\n",
       "      <td>4</td>\n",
       "      <td>0.111129</td>\n",
       "      <td>1</td>\n",
       "      <td>A</td>\n",
       "    </tr>\n",
       "    <tr>\n",
       "      <td>5</td>\n",
       "      <td>0.111129</td>\n",
       "      <td>1</td>\n",
       "      <td>A</td>\n",
       "    </tr>\n",
       "    <tr>\n",
       "      <td>6</td>\n",
       "      <td>0.221065</td>\n",
       "      <td>1</td>\n",
       "      <td>B</td>\n",
       "    </tr>\n",
       "    <tr>\n",
       "      <td>7</td>\n",
       "      <td>0.077770</td>\n",
       "      <td>1</td>\n",
       "      <td>A</td>\n",
       "    </tr>\n",
       "    <tr>\n",
       "      <td>8</td>\n",
       "      <td>0.120478</td>\n",
       "      <td>1</td>\n",
       "      <td>A</td>\n",
       "    </tr>\n",
       "    <tr>\n",
       "      <td>9</td>\n",
       "      <td>0.593518</td>\n",
       "      <td>0</td>\n",
       "      <td>C</td>\n",
       "    </tr>\n",
       "  </tbody>\n",
       "</table>\n",
       "</div>"
      ],
      "text/plain": [
       "         PD  Default_Flag Score\n",
       "0  0.700174             0     D\n",
       "1  0.111320             1     A\n",
       "2  0.077296             1     A\n",
       "3  0.387572             1     B\n",
       "4  0.111129             1     A\n",
       "5  0.111129             1     A\n",
       "6  0.221065             1     B\n",
       "7  0.077770             1     A\n",
       "8  0.120478             1     A\n",
       "9  0.593518             0     C"
      ]
     },
     "execution_count": 214,
     "metadata": {},
     "output_type": "execute_result"
    }
   ],
   "source": [
    "Score_model[:10]"
   ]
  },
  {
   "cell_type": "code",
   "execution_count": 220,
   "metadata": {},
   "outputs": [
    {
     "data": {
      "text/plain": [
       "86"
      ]
     },
     "execution_count": 220,
     "metadata": {},
     "output_type": "execute_result"
    }
   ],
   "source": [
    "Score_model[(Score_model[\"Default_Flag\"] == 1) & (Score_model[\"Score\"] == \"A\")].Score.count()"
   ]
  },
  {
   "cell_type": "code",
   "execution_count": 231,
   "metadata": {},
   "outputs": [],
   "source": [
    "RatingScore = [\"A\",\"B\",\"C\",\"D\",\"E\"]\n",
    "non_default = []\n",
    "for score in RatingScore:\n",
    "    non_default.append(Score_model[(Score_model[\"Default_Flag\"] == 1) & (Score_model[\"Score\"] == score)].Score.count())"
   ]
  },
  {
   "cell_type": "code",
   "execution_count": 232,
   "metadata": {},
   "outputs": [
    {
     "data": {
      "text/plain": [
       "[86, 53, 18, 0, 0]"
      ]
     },
     "execution_count": 232,
     "metadata": {},
     "output_type": "execute_result"
    }
   ],
   "source": [
    "non_default"
   ]
  },
  {
   "cell_type": "code",
   "execution_count": 233,
   "metadata": {},
   "outputs": [],
   "source": [
    "RatingScore = [\"A\",\"B\",\"C\",\"D\",\"E\"]\n",
    "default_count = []\n",
    "for score in RatingScore:\n",
    "    default_count.append(Score_model[(Score_model[\"Default_Flag\"] == 0) & (Score_model[\"Score\"] == score)].Score.count())"
   ]
  },
  {
   "cell_type": "code",
   "execution_count": 234,
   "metadata": {},
   "outputs": [
    {
     "data": {
      "text/plain": [
       "[0, 0, 19, 21, 3]"
      ]
     },
     "execution_count": 234,
     "metadata": {},
     "output_type": "execute_result"
    }
   ],
   "source": [
    "default_count"
   ]
  },
  {
   "cell_type": "code",
   "execution_count": 241,
   "metadata": {},
   "outputs": [],
   "source": [
    "pd_average = []\n",
    "for score in RatingScore:\n",
    "    pd_average.append(Score_model[Score_model[\"Score\"] == score].PD.mean())"
   ]
  },
  {
   "cell_type": "code",
   "execution_count": 242,
   "metadata": {},
   "outputs": [
    {
     "data": {
      "text/plain": [
       "[0.11686491403941855,\n",
       " 0.2997505926440388,\n",
       " 0.5007130783713325,\n",
       " 0.6691298488511812,\n",
       " 0.8630960875480516]"
      ]
     },
     "execution_count": 242,
     "metadata": {},
     "output_type": "execute_result"
    }
   ],
   "source": [
    "pd_average"
   ]
  },
  {
   "cell_type": "code",
   "execution_count": 256,
   "metadata": {},
   "outputs": [
    {
     "data": {
      "text/html": [
       "<div>\n",
       "<style scoped>\n",
       "    .dataframe tbody tr th:only-of-type {\n",
       "        vertical-align: middle;\n",
       "    }\n",
       "\n",
       "    .dataframe tbody tr th {\n",
       "        vertical-align: top;\n",
       "    }\n",
       "\n",
       "    .dataframe thead th {\n",
       "        text-align: right;\n",
       "    }\n",
       "</style>\n",
       "<table border=\"1\" class=\"dataframe\">\n",
       "  <thead>\n",
       "    <tr style=\"text-align: right;\">\n",
       "      <th></th>\n",
       "      <th>PD</th>\n",
       "      <th>Default_Flag</th>\n",
       "      <th>Score</th>\n",
       "    </tr>\n",
       "  </thead>\n",
       "  <tbody>\n",
       "    <tr>\n",
       "      <td>56</td>\n",
       "      <td>0.846307</td>\n",
       "      <td>0</td>\n",
       "      <td>E</td>\n",
       "    </tr>\n",
       "    <tr>\n",
       "      <td>165</td>\n",
       "      <td>0.885238</td>\n",
       "      <td>0</td>\n",
       "      <td>E</td>\n",
       "    </tr>\n",
       "    <tr>\n",
       "      <td>191</td>\n",
       "      <td>0.857744</td>\n",
       "      <td>0</td>\n",
       "      <td>E</td>\n",
       "    </tr>\n",
       "  </tbody>\n",
       "</table>\n",
       "</div>"
      ],
      "text/plain": [
       "           PD  Default_Flag Score\n",
       "56   0.846307             0     E\n",
       "165  0.885238             0     E\n",
       "191  0.857744             0     E"
      ]
     },
     "execution_count": 256,
     "metadata": {},
     "output_type": "execute_result"
    }
   ],
   "source": [
    "Score_model[Score_model[\"Score\"] == \"E\"]"
   ]
  },
  {
   "cell_type": "code",
   "execution_count": 260,
   "metadata": {},
   "outputs": [],
   "source": [
    "Score_model.loc[Score_model[\"Score\"] == \"E\",\"PD\"] = 1"
   ]
  },
  {
   "cell_type": "code",
   "execution_count": 261,
   "metadata": {},
   "outputs": [
    {
     "data": {
      "text/plain": [
       "56     1.0\n",
       "165    1.0\n",
       "191    1.0\n",
       "Name: PD, dtype: float64"
      ]
     },
     "execution_count": 261,
     "metadata": {},
     "output_type": "execute_result"
    }
   ],
   "source": [
    "Score_model.loc[Score_model[\"Score\"] == \"E\",\"PD\"]"
   ]
  },
  {
   "cell_type": "code",
   "execution_count": null,
   "metadata": {},
   "outputs": [],
   "source": []
  }
 ],
 "metadata": {
  "kernelspec": {
   "display_name": "Python 3",
   "language": "python",
   "name": "python3"
  },
  "language_info": {
   "codemirror_mode": {
    "name": "ipython",
    "version": 3
   },
   "file_extension": ".py",
   "mimetype": "text/x-python",
   "name": "python",
   "nbconvert_exporter": "python",
   "pygments_lexer": "ipython3",
   "version": "3.7.4"
  }
 },
 "nbformat": 4,
 "nbformat_minor": 2
}
